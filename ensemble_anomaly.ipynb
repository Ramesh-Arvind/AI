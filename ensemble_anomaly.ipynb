{
  "cells": [
    {
      "cell_type": "markdown",
      "metadata": {
        "id": "view-in-github",
        "colab_type": "text"
      },
      "source": [
        "<a href=\"https://colab.research.google.com/github/Ramesh-Arvind/AI/blob/master/ensemble_anomaly.ipynb\" target=\"_parent\"><img src=\"https://colab.research.google.com/assets/colab-badge.svg\" alt=\"Open In Colab\"/></a>"
      ]
    },
    {
      "cell_type": "code",
      "execution_count": 15,
      "metadata": {
        "id": "c2b9160e"
      },
      "outputs": [],
      "source": [
        "# Importing necessary packages\n",
        "import numpy as np\n",
        "from numpy import percentile\n",
        "import matplotlib.pyplot as plt\n",
        "import matplotlib.font_manager\n",
        "from scipy.optimize import minimize"
      ]
    },
    {
      "cell_type": "code",
      "execution_count": 16,
      "metadata": {
        "id": "f336db7e"
      },
      "outputs": [],
      "source": [
        "# Importing all models\n",
        "from pyod.models.iforest import IForest\n",
        "from pyod.models.knn import KNN\n",
        "from pyod.models.ocsvm import OCSVM\n",
        "from pyod.models.deep_svdd import DeepSVDD\n",
        "from pyod.models.auto_encoder import AutoEncoder\n",
        "from pyod.utils.data import generate_data\n",
        "from pyod.utils.data import evaluate_print\n",
        "from pyod.utils.example import visualize\n",
        "from sklearn import metrics\n"
      ]
    },
    {
      "cell_type": "code",
      "execution_count": 8,
      "metadata": {
        "id": "1222b618"
      },
      "outputs": [],
      "source": [
        "# Importing cardio.npz data set\n",
        "cardio = np.load('/content/cardio.npz')\n",
        "lst = cardio.files\n",
        "x,tx,ty=cardio['x'],cardio['tx'],cardio['ty']\n",
        "# for item in lst:\n",
        "#     print(item)\n",
        "#     print(data[item])"
      ]
    },
    {
      "cell_type": "code",
      "execution_count": 23,
      "metadata": {
        "id": "fba7d03c"
      },
      "outputs": [],
      "source": [
        "# Collecting Train and Test Scores\n",
        "n_clf = 5\n",
        "train_scores = np.zeros([len(cardio['x']), n_clf])\n",
        "test_scores = np.zeros([len(cardio['tx']), n_clf])"
      ]
    },
    {
      "cell_type": "code",
      "execution_count": 24,
      "metadata": {
        "colab": {
          "base_uri": "https://localhost:8080/"
        },
        "id": "EwIgA1BLtTR2",
        "outputId": "190ce375-f51d-4e1d-d788-542bb2cb8ef9"
      },
      "outputs": [
        {
          "output_type": "stream",
          "name": "stdout",
          "text": [
            "Model: \"sequential_1\"\n",
            "_________________________________________________________________\n",
            " Layer (type)                Output Shape              Param #   \n",
            "=================================================================\n",
            " dense_8 (Dense)             (None, 21)                462       \n",
            "                                                                 \n",
            " dropout_5 (Dropout)         (None, 21)                0         \n",
            "                                                                 \n",
            " dense_9 (Dense)             (None, 21)                462       \n",
            "                                                                 \n",
            " dropout_6 (Dropout)         (None, 21)                0         \n",
            "                                                                 \n",
            " dense_10 (Dense)            (None, 60)                1320      \n",
            "                                                                 \n",
            " dropout_7 (Dropout)         (None, 60)                0         \n",
            "                                                                 \n",
            " dense_11 (Dense)            (None, 10)                610       \n",
            "                                                                 \n",
            " dropout_8 (Dropout)         (None, 10)                0         \n",
            "                                                                 \n",
            " dense_12 (Dense)            (None, 60)                660       \n",
            "                                                                 \n",
            " dropout_9 (Dropout)         (None, 60)                0         \n",
            "                                                                 \n",
            " dense_13 (Dense)            (None, 21)                1281      \n",
            "                                                                 \n",
            "=================================================================\n",
            "Total params: 4,795\n",
            "Trainable params: 4,795\n",
            "Non-trainable params: 0\n",
            "_________________________________________________________________\n",
            "None\n",
            "Epoch 1/30\n",
            "42/42 [==============================] - 1s 9ms/step - loss: 3.0839 - val_loss: 2.3938\n",
            "Epoch 2/30\n",
            "42/42 [==============================] - 0s 4ms/step - loss: 2.3437 - val_loss: 1.9052\n",
            "Epoch 3/30\n",
            "42/42 [==============================] - 0s 7ms/step - loss: 1.8953 - val_loss: 1.5560\n",
            "Epoch 4/30\n",
            "42/42 [==============================] - 0s 6ms/step - loss: 1.6257 - val_loss: 1.3929\n",
            "Epoch 5/30\n",
            "42/42 [==============================] - 0s 6ms/step - loss: 1.5032 - val_loss: 1.2944\n",
            "Epoch 6/30\n",
            "42/42 [==============================] - 0s 6ms/step - loss: 1.4152 - val_loss: 1.2259\n",
            "Epoch 7/30\n",
            "42/42 [==============================] - 0s 6ms/step - loss: 1.3565 - val_loss: 1.1783\n",
            "Epoch 8/30\n",
            "42/42 [==============================] - 0s 6ms/step - loss: 1.3003 - val_loss: 1.1426\n",
            "Epoch 9/30\n",
            "42/42 [==============================] - 0s 6ms/step - loss: 1.2690 - val_loss: 1.1151\n",
            "Epoch 10/30\n",
            "42/42 [==============================] - 0s 7ms/step - loss: 1.2405 - val_loss: 1.0943\n",
            "Epoch 11/30\n",
            "42/42 [==============================] - 0s 6ms/step - loss: 1.2195 - val_loss: 1.0774\n",
            "Epoch 12/30\n",
            "42/42 [==============================] - 0s 6ms/step - loss: 1.2044 - val_loss: 1.0640\n",
            "Epoch 13/30\n",
            "42/42 [==============================] - 0s 7ms/step - loss: 1.1865 - val_loss: 1.0529\n",
            "Epoch 14/30\n",
            "42/42 [==============================] - 0s 5ms/step - loss: 1.1746 - val_loss: 1.0436\n",
            "Epoch 15/30\n",
            "42/42 [==============================] - 0s 3ms/step - loss: 1.1583 - val_loss: 1.0357\n",
            "Epoch 16/30\n",
            "42/42 [==============================] - 0s 3ms/step - loss: 1.1485 - val_loss: 1.0290\n",
            "Epoch 17/30\n",
            "42/42 [==============================] - 0s 3ms/step - loss: 1.1393 - val_loss: 1.0233\n",
            "Epoch 18/30\n",
            "42/42 [==============================] - 0s 3ms/step - loss: 1.1303 - val_loss: 1.0182\n",
            "Epoch 19/30\n",
            "42/42 [==============================] - 0s 3ms/step - loss: 1.1252 - val_loss: 1.0138\n",
            "Epoch 20/30\n",
            "42/42 [==============================] - 0s 4ms/step - loss: 1.1190 - val_loss: 1.0099\n",
            "Epoch 21/30\n",
            "42/42 [==============================] - 0s 3ms/step - loss: 1.1124 - val_loss: 1.0063\n",
            "Epoch 22/30\n",
            "42/42 [==============================] - 0s 3ms/step - loss: 1.1095 - val_loss: 1.0031\n",
            "Epoch 23/30\n",
            "42/42 [==============================] - 0s 3ms/step - loss: 1.1025 - val_loss: 1.0002\n",
            "Epoch 24/30\n",
            "42/42 [==============================] - 0s 4ms/step - loss: 1.0997 - val_loss: 0.9976\n",
            "Epoch 25/30\n",
            "42/42 [==============================] - 0s 4ms/step - loss: 1.0946 - val_loss: 0.9952\n",
            "Epoch 26/30\n",
            "42/42 [==============================] - 0s 4ms/step - loss: 1.0909 - val_loss: 0.9930\n",
            "Epoch 27/30\n",
            "42/42 [==============================] - 0s 4ms/step - loss: 1.0878 - val_loss: 0.9910\n",
            "Epoch 28/30\n",
            "42/42 [==============================] - 0s 4ms/step - loss: 1.0847 - val_loss: 0.9891\n",
            "Epoch 29/30\n",
            "42/42 [==============================] - 0s 3ms/step - loss: 1.0813 - val_loss: 0.9873\n",
            "Epoch 30/30\n",
            "42/42 [==============================] - 0s 3ms/step - loss: 1.0786 - val_loss: 0.9857\n",
            "47/47 [==============================] - 0s 2ms/step\n",
            "11/11 [==============================] - 0s 2ms/step\n",
            "11/11 [==============================] - 0s 2ms/step\n",
            "AE ROC AUC score 0.9481\n"
          ]
        }
      ],
      "source": [
        "# Fitting Auto-Encoder\n",
        "ae = AutoEncoder(epochs=30, contamination=0.1, hidden_neurons=[60,10,60])\n",
        "ae.fit(cardio['x'])\n",
        "ae_train_pred = ae.labels_\n",
        "ae_train_scores = ae.decision_scores_\n",
        "ae_test_pred = ae.predict(cardio['tx'])  # outlier labels (0 or 1)\n",
        "ae_test_scores = ae.decision_function(cardio['tx'])  # outlier scores\n",
        "train_scores[:, 3] = ae_train_scores\n",
        "test_scores[:, 3] = ae_test_scores\n",
        "print(\"AE ROC AUC score\", round(metrics.roc_auc_score(cardio['ty'], ae_test_scores),4))"
      ]
    },
    {
      "cell_type": "code",
      "execution_count": 25,
      "metadata": {
        "colab": {
          "base_uri": "https://localhost:8080/"
        },
        "id": "MjD5lvhBtTR5",
        "outputId": "8c876aae-cbb3-4f83-e67e-acbdf66b72ac"
      },
      "outputs": [
        {
          "output_type": "stream",
          "name": "stdout",
          "text": [
            "47/47 [==============================] - 0s 1ms/step\n",
            "Model: \"model_5\"\n",
            "_________________________________________________________________\n",
            " Layer (type)                Output Shape              Param #   \n",
            "=================================================================\n",
            " input_4 (InputLayer)        [(None, 21)]              0         \n",
            "                                                                 \n",
            " dense_15 (Dense)            (None, 64)                1344      \n",
            "                                                                 \n",
            " net_output (Dense)          (None, 32)                2048      \n",
            "                                                                 \n",
            " tf.math.subtract_3 (TFOpLam  (None, 32)               0         \n",
            " bda)                                                            \n",
            "                                                                 \n",
            " tf.math.pow_3 (TFOpLambda)  (None, 32)                0         \n",
            "                                                                 \n",
            " tf.math.reduce_sum_3 (TFOpL  (None,)                  0         \n",
            " ambda)                                                          \n",
            "                                                                 \n",
            " tf.math.reduce_mean_3 (TFOp  ()                       0         \n",
            " Lambda)                                                         \n",
            "                                                                 \n",
            " tf.__operators__.add_3 (TFO  ()                       0         \n",
            " pLambda)                                                        \n",
            "                                                                 \n",
            " add_loss_3 (AddLoss)        ()                        0         \n",
            "                                                                 \n",
            "=================================================================\n",
            "Total params: 3,392\n",
            "Trainable params: 3,392\n",
            "Non-trainable params: 0\n",
            "_________________________________________________________________\n",
            "None\n",
            "Epoch 1/5\n",
            "42/42 [==============================] - 1s 6ms/step - loss: 3.8655 - val_loss: 2.4648\n",
            "Epoch 2/5\n",
            "42/42 [==============================] - 0s 3ms/step - loss: 2.3821 - val_loss: 1.8875\n",
            "Epoch 3/5\n",
            "42/42 [==============================] - 0s 3ms/step - loss: 1.8764 - val_loss: 1.4934\n",
            "Epoch 4/5\n",
            "42/42 [==============================] - 0s 3ms/step - loss: 1.5287 - val_loss: 1.2314\n",
            "Epoch 5/5\n",
            "42/42 [==============================] - 0s 3ms/step - loss: 1.2737 - val_loss: 1.0400\n",
            "47/47 [==============================] - 0s 2ms/step\n",
            "11/11 [==============================] - 0s 2ms/step\n",
            "11/11 [==============================] - 0s 2ms/step\n",
            "DSVDD ROC AUC score 0.8696\n"
          ]
        }
      ],
      "source": [
        "# Fitting Deep One-Class Classification\n",
        "dsvdd = DeepSVDD(use_ae=False, epochs=5, contamination=0.1, random_state=10)\n",
        "dsvdd.fit(cardio['x'])\n",
        "dsvdd_train_pred = dsvdd.labels_\n",
        "dsvdd_train_scores = dsvdd.decision_scores_\n",
        "dsvdd_test_pred = dsvdd.predict(cardio['tx'])  # outlier labels (0 or 1)\n",
        "dsvdd_test_scores = dsvdd.decision_function(cardio['tx'])  # outlier scores\n",
        "train_scores[:, 3] = dsvdd_train_scores\n",
        "test_scores[:, 3] = dsvdd_test_scores\n",
        "print(\"DSVDD ROC AUC score\", round(metrics.roc_auc_score(cardio['ty'], dsvdd_test_scores),4))"
      ]
    },
    {
      "cell_type": "code",
      "execution_count": 26,
      "metadata": {
        "colab": {
          "base_uri": "https://localhost:8080/"
        },
        "id": "35b2f8b7",
        "outputId": "6b3bda28-0255-4545-f940-d1239201bc38"
      },
      "outputs": [
        {
          "output_type": "stream",
          "name": "stdout",
          "text": [
            "Isolation Forest ROC AUC score 0.9508\n"
          ]
        }
      ],
      "source": [
        "# Fitting Isolation Forest\n",
        "iof = IForest()\n",
        "iof.fit(cardio['x'])\n",
        "iof_train_pred = iof.labels_\n",
        "iof_train_scores = iof.decision_scores_\n",
        "iof_test_pred = iof.predict(cardio['tx'])  # outlier labels (0 or 1)\n",
        "iof_test_scores = iof.decision_function(cardio['tx'])  # outlier scores\n",
        "train_scores[:, 2] = iof_train_scores\n",
        "test_scores[:, 2] = iof_test_scores\n",
        "print(\"Isolation Forest ROC AUC score\", round(metrics.roc_auc_score(cardio['ty'], iof_test_scores),4))"
      ]
    },
    {
      "cell_type": "code",
      "execution_count": 27,
      "metadata": {
        "colab": {
          "base_uri": "https://localhost:8080/"
        },
        "id": "612b4a11",
        "outputId": "f92a726e-85f0-4048-e86a-93caaca84dee"
      },
      "outputs": [
        {
          "output_type": "stream",
          "name": "stdout",
          "text": [
            "KNN ROC AUC score 0.927\n"
          ]
        }
      ],
      "source": [
        "# Fitting K Nearest Neighbors\n",
        "knn = KNN()\n",
        "knn.fit(cardio['x'])\n",
        "knn_train_pred = knn.labels_\n",
        "knn_train_scores = knn.decision_scores_\n",
        "knn_test_pred = knn.predict(cardio['tx'])  # outlier labels (0 or 1)\n",
        "knn_test_scores = knn.decision_function(cardio['tx'])  # outlier scores\n",
        "train_scores[:, 1] = knn_train_scores\n",
        "test_scores[:, 1] = knn_test_scores\n",
        "print(\"KNN ROC AUC score\", round(metrics.roc_auc_score(cardio['ty'], knn_test_scores),4))"
      ]
    },
    {
      "cell_type": "code",
      "execution_count": 28,
      "metadata": {
        "colab": {
          "base_uri": "https://localhost:8080/"
        },
        "id": "b35cb0a4",
        "outputId": "2246f7cb-c814-4ed7-a8a3-a6726087c1b0"
      },
      "outputs": [
        {
          "output_type": "stream",
          "name": "stdout",
          "text": [
            "OCSVM ROC AUC score 0.9415\n"
          ]
        }
      ],
      "source": [
        "# Fitting One-class Support Vector Machine\n",
        "ovm = OCSVM()\n",
        "ovm.fit(cardio['x'])\n",
        "ovm_train_pred = ovm.labels_\n",
        "ovm_train_scores = ovm.decision_scores_\n",
        "ovm_test_pred = ovm.predict(cardio['tx'])  # outlier labels (0 or 1)\n",
        "ovm_test_scores = ovm.decision_function(cardio['tx'])  # outlier scores\n",
        "train_scores[:, 3] = ovm_train_scores\n",
        "test_scores[:, 3] = ovm_test_scores\n",
        "print(\"OCSVM ROC AUC score\", round(metrics.roc_auc_score(cardio['ty'], ovm_test_scores),4))"
      ]
    },
    {
      "cell_type": "code",
      "execution_count": 29,
      "metadata": {
        "colab": {
          "base_uri": "https://localhost:8080/"
        },
        "id": "HmeEj-k9tTSB",
        "outputId": "ad6d4cab-b452-4873-c573-39ca65c45aaf"
      },
      "outputs": [
        {
          "output_type": "stream",
          "name": "stdout",
          "text": [
            "Average ROC AUC score 0.944\n"
          ]
        }
      ],
      "source": [
        "# Averaging scores\n",
        "avg_test_scores = (np.array(ae_test_scores) + np.array(dsvdd_test_scores) + np.array(iof_test_scores)\n",
        "                   + np.array(knn_test_scores) + np.array(ovm_test_scores)) / 5.0\n",
        "print(\"Average ROC AUC score\", round(metrics.roc_auc_score(cardio['ty'], avg_test_scores),4))"
      ]
    },
    {
      "cell_type": "code",
      "execution_count": 30,
      "metadata": {
        "colab": {
          "base_uri": "https://localhost:8080/"
        },
        "id": "L6XFiJSJtTSD",
        "outputId": "690ef8f5-548f-4160-bf69-ee1a3de5c309"
      },
      "outputs": [
        {
          "output_type": "stream",
          "name": "stdout",
          "text": [
            "Max ROC AUC score 0.9415\n"
          ]
        }
      ],
      "source": [
        "# Maximizing scores\n",
        "max_test_scores = np.fmax((np.fmax((np.fmax(np.array(ae_test_scores), np.array(dsvdd_test_scores))),\n",
        "                          (np.fmax(np.array(iof_test_scores), np.array(knn_test_scores))))),\n",
        "                            (np.array(ovm_test_scores)))\n",
        "print(\"Max ROC AUC score\", round(metrics.roc_auc_score(cardio['ty'], max_test_scores),4))"
      ]
    },
    {
      "cell_type": "code",
      "execution_count": 31,
      "metadata": {
        "colab": {
          "base_uri": "https://localhost:8080/"
        },
        "id": "PndklTCetTSE",
        "outputId": "28b81b02-4c4b-41f1-a0b1-1638ce490a45"
      },
      "outputs": [
        {
          "output_type": "execute_result",
          "data": {
            "text/plain": [
              "(5, 352)"
            ]
          },
          "metadata": {},
          "execution_count": 31
        }
      ],
      "source": [
        "# Creating Score Matrix for each data point corresponding to each algorithm\n",
        "model_scores = np.stack((ae_test_scores, dsvdd_test_scores, iof_test_scores, knn_test_scores,  ovm_test_scores))\n",
        "np.array(model_scores).shape"
      ]
    },
    {
      "cell_type": "code",
      "source": [
        "n_iterations = 100\n",
        "best_weights_overall = None\n",
        "best_roc_auc_overall = -np.inf\n",
        "\n",
        "def objective(weights):\n",
        "    # Linear combination of the test scores using the weights\n",
        "    combined_test_scores = np.dot(weights.T,model_scores)\n",
        "    # ROC AUC score of the combined test scores\n",
        "    roc_auc = metrics.roc_auc_score(cardio['ty'], combined_test_scores)\n",
        "    return -roc_auc\n",
        "\n",
        "for iteration in range(n_iterations):\n",
        "    initial_weights = np.random.rand(n_clf)\n",
        "    initial_weights = initial_weights / np.sum(initial_weights)\n",
        "    bounds = [(0, 1) for _ in range(len(initial_weights))]\n",
        "    result = minimize(objective, initial_weights, bounds=bounds, constraints={\"type\": \"eq\", \"fun\": lambda w: 1 - sum(w)}, method='SLSQP')\n",
        "    if -result.fun > best_roc_auc_overall:\n",
        "        best_weights_overall = result.x\n",
        "        best_roc_auc_overall = -result.fun\n",
        "    print(\"Iteration {}: Best Weights: {} Best ROC_AUC: {}\".format(iteration,best_weights_overall,best_roc_auc_overall))\n",
        "\n",
        "best_algo_index = np.argmax(best_weights_overall)\n",
        "print(\"The best algorithm is: Algorithm {} with weight: {}\".format(best_algo_index+1, best_weights_overall[best_algo_index]))\n"
      ],
      "metadata": {
        "colab": {
          "base_uri": "https://localhost:8080/"
        },
        "id": "a8HpYIEg-7c-",
        "outputId": "3b53cc53-f810-4663-e209-0fa6da10530e"
      },
      "execution_count": 73,
      "outputs": [
        {
          "output_type": "stream",
          "name": "stdout",
          "text": [
            "Iteration 0: Best Weights: [0.01538423 0.28505202 0.1135283  0.27027257 0.31576288] Best ROC_AUC: 0.9427298553719009\n",
            "Iteration 1: Best Weights: [0.28832167 0.00183928 0.39026448 0.21401127 0.1055633 ] Best ROC_AUC: 0.9454093491735537\n",
            "Iteration 2: Best Weights: [0.28832167 0.00183928 0.39026448 0.21401127 0.1055633 ] Best ROC_AUC: 0.9454093491735537\n",
            "Iteration 3: Best Weights: [0.28832167 0.00183928 0.39026448 0.21401127 0.1055633 ] Best ROC_AUC: 0.9454093491735537\n",
            "Iteration 4: Best Weights: [0.28832167 0.00183928 0.39026448 0.21401127 0.1055633 ] Best ROC_AUC: 0.9454093491735537\n",
            "Iteration 5: Best Weights: [0.28832167 0.00183928 0.39026448 0.21401127 0.1055633 ] Best ROC_AUC: 0.9454093491735537\n",
            "Iteration 6: Best Weights: [0.28832167 0.00183928 0.39026448 0.21401127 0.1055633 ] Best ROC_AUC: 0.9454093491735537\n",
            "Iteration 7: Best Weights: [0.28832167 0.00183928 0.39026448 0.21401127 0.1055633 ] Best ROC_AUC: 0.9454093491735537\n",
            "Iteration 8: Best Weights: [0.28832167 0.00183928 0.39026448 0.21401127 0.1055633 ] Best ROC_AUC: 0.9454093491735537\n",
            "Iteration 9: Best Weights: [0.28832167 0.00183928 0.39026448 0.21401127 0.1055633 ] Best ROC_AUC: 0.9454093491735537\n",
            "Iteration 10: Best Weights: [0.28832167 0.00183928 0.39026448 0.21401127 0.1055633 ] Best ROC_AUC: 0.9454093491735537\n",
            "Iteration 11: Best Weights: [0.28832167 0.00183928 0.39026448 0.21401127 0.1055633 ] Best ROC_AUC: 0.9454093491735537\n",
            "Iteration 12: Best Weights: [0.28832167 0.00183928 0.39026448 0.21401127 0.1055633 ] Best ROC_AUC: 0.9454093491735537\n",
            "Iteration 13: Best Weights: [0.28832167 0.00183928 0.39026448 0.21401127 0.1055633 ] Best ROC_AUC: 0.9454093491735537\n",
            "Iteration 14: Best Weights: [0.14002765 0.33026891 0.49139121 0.00916196 0.02915027] Best ROC_AUC: 0.9464746900826446\n",
            "Iteration 15: Best Weights: [0.14002765 0.33026891 0.49139121 0.00916196 0.02915027] Best ROC_AUC: 0.9464746900826446\n",
            "Iteration 16: Best Weights: [0.14002765 0.33026891 0.49139121 0.00916196 0.02915027] Best ROC_AUC: 0.9464746900826446\n",
            "Iteration 17: Best Weights: [0.14002765 0.33026891 0.49139121 0.00916196 0.02915027] Best ROC_AUC: 0.9464746900826446\n",
            "Iteration 18: Best Weights: [0.14002765 0.33026891 0.49139121 0.00916196 0.02915027] Best ROC_AUC: 0.9464746900826446\n",
            "Iteration 19: Best Weights: [0.14002765 0.33026891 0.49139121 0.00916196 0.02915027] Best ROC_AUC: 0.9464746900826446\n",
            "Iteration 20: Best Weights: [0.14002765 0.33026891 0.49139121 0.00916196 0.02915027] Best ROC_AUC: 0.9464746900826446\n",
            "Iteration 21: Best Weights: [0.14002765 0.33026891 0.49139121 0.00916196 0.02915027] Best ROC_AUC: 0.9464746900826446\n",
            "Iteration 22: Best Weights: [0.46452158 0.26770808 0.12536482 0.12238503 0.0200205 ] Best ROC_AUC: 0.9481211260330578\n",
            "Iteration 23: Best Weights: [0.46452158 0.26770808 0.12536482 0.12238503 0.0200205 ] Best ROC_AUC: 0.9481211260330578\n",
            "Iteration 24: Best Weights: [0.46452158 0.26770808 0.12536482 0.12238503 0.0200205 ] Best ROC_AUC: 0.9481211260330578\n",
            "Iteration 25: Best Weights: [0.46452158 0.26770808 0.12536482 0.12238503 0.0200205 ] Best ROC_AUC: 0.9481211260330578\n",
            "Iteration 26: Best Weights: [0.46452158 0.26770808 0.12536482 0.12238503 0.0200205 ] Best ROC_AUC: 0.9481211260330578\n",
            "Iteration 27: Best Weights: [0.46452158 0.26770808 0.12536482 0.12238503 0.0200205 ] Best ROC_AUC: 0.9481211260330578\n",
            "Iteration 28: Best Weights: [0.46452158 0.26770808 0.12536482 0.12238503 0.0200205 ] Best ROC_AUC: 0.9481211260330578\n",
            "Iteration 29: Best Weights: [0.46452158 0.26770808 0.12536482 0.12238503 0.0200205 ] Best ROC_AUC: 0.9481211260330578\n",
            "Iteration 30: Best Weights: [0.46452158 0.26770808 0.12536482 0.12238503 0.0200205 ] Best ROC_AUC: 0.9481211260330578\n",
            "Iteration 31: Best Weights: [0.46452158 0.26770808 0.12536482 0.12238503 0.0200205 ] Best ROC_AUC: 0.9481211260330578\n",
            "Iteration 32: Best Weights: [0.46452158 0.26770808 0.12536482 0.12238503 0.0200205 ] Best ROC_AUC: 0.9481211260330578\n",
            "Iteration 33: Best Weights: [0.46452158 0.26770808 0.12536482 0.12238503 0.0200205 ] Best ROC_AUC: 0.9481211260330578\n",
            "Iteration 34: Best Weights: [0.46452158 0.26770808 0.12536482 0.12238503 0.0200205 ] Best ROC_AUC: 0.9481211260330578\n",
            "Iteration 35: Best Weights: [0.46452158 0.26770808 0.12536482 0.12238503 0.0200205 ] Best ROC_AUC: 0.9481211260330578\n",
            "Iteration 36: Best Weights: [0.46452158 0.26770808 0.12536482 0.12238503 0.0200205 ] Best ROC_AUC: 0.9481211260330578\n",
            "Iteration 37: Best Weights: [0.46452158 0.26770808 0.12536482 0.12238503 0.0200205 ] Best ROC_AUC: 0.9481211260330578\n",
            "Iteration 38: Best Weights: [0.46452158 0.26770808 0.12536482 0.12238503 0.0200205 ] Best ROC_AUC: 0.9481211260330578\n",
            "Iteration 39: Best Weights: [0.46452158 0.26770808 0.12536482 0.12238503 0.0200205 ] Best ROC_AUC: 0.9481211260330578\n",
            "Iteration 40: Best Weights: [0.46452158 0.26770808 0.12536482 0.12238503 0.0200205 ] Best ROC_AUC: 0.9481211260330578\n",
            "Iteration 41: Best Weights: [0.46452158 0.26770808 0.12536482 0.12238503 0.0200205 ] Best ROC_AUC: 0.9481211260330578\n",
            "Iteration 42: Best Weights: [0.46452158 0.26770808 0.12536482 0.12238503 0.0200205 ] Best ROC_AUC: 0.9481211260330578\n",
            "Iteration 43: Best Weights: [0.46452158 0.26770808 0.12536482 0.12238503 0.0200205 ] Best ROC_AUC: 0.9481211260330578\n",
            "Iteration 44: Best Weights: [0.46452158 0.26770808 0.12536482 0.12238503 0.0200205 ] Best ROC_AUC: 0.9481211260330578\n",
            "Iteration 45: Best Weights: [0.46452158 0.26770808 0.12536482 0.12238503 0.0200205 ] Best ROC_AUC: 0.9481211260330578\n",
            "Iteration 46: Best Weights: [0.46452158 0.26770808 0.12536482 0.12238503 0.0200205 ] Best ROC_AUC: 0.9481211260330578\n",
            "Iteration 47: Best Weights: [0.46452158 0.26770808 0.12536482 0.12238503 0.0200205 ] Best ROC_AUC: 0.9481211260330578\n",
            "Iteration 48: Best Weights: [0.46452158 0.26770808 0.12536482 0.12238503 0.0200205 ] Best ROC_AUC: 0.9481211260330578\n",
            "Iteration 49: Best Weights: [0.46452158 0.26770808 0.12536482 0.12238503 0.0200205 ] Best ROC_AUC: 0.9481211260330578\n",
            "Iteration 50: Best Weights: [0.46452158 0.26770808 0.12536482 0.12238503 0.0200205 ] Best ROC_AUC: 0.9481211260330578\n",
            "Iteration 51: Best Weights: [0.46452158 0.26770808 0.12536482 0.12238503 0.0200205 ] Best ROC_AUC: 0.9481211260330578\n",
            "Iteration 52: Best Weights: [0.46452158 0.26770808 0.12536482 0.12238503 0.0200205 ] Best ROC_AUC: 0.9481211260330578\n",
            "Iteration 53: Best Weights: [0.46452158 0.26770808 0.12536482 0.12238503 0.0200205 ] Best ROC_AUC: 0.9481211260330578\n",
            "Iteration 54: Best Weights: [0.46452158 0.26770808 0.12536482 0.12238503 0.0200205 ] Best ROC_AUC: 0.9481211260330578\n",
            "Iteration 55: Best Weights: [0.46452158 0.26770808 0.12536482 0.12238503 0.0200205 ] Best ROC_AUC: 0.9481211260330578\n",
            "Iteration 56: Best Weights: [0.46452158 0.26770808 0.12536482 0.12238503 0.0200205 ] Best ROC_AUC: 0.9481211260330578\n",
            "Iteration 57: Best Weights: [0.46452158 0.26770808 0.12536482 0.12238503 0.0200205 ] Best ROC_AUC: 0.9481211260330578\n",
            "Iteration 58: Best Weights: [0.46452158 0.26770808 0.12536482 0.12238503 0.0200205 ] Best ROC_AUC: 0.9481211260330578\n",
            "Iteration 59: Best Weights: [0.46452158 0.26770808 0.12536482 0.12238503 0.0200205 ] Best ROC_AUC: 0.9481211260330578\n",
            "Iteration 60: Best Weights: [0.46452158 0.26770808 0.12536482 0.12238503 0.0200205 ] Best ROC_AUC: 0.9481211260330578\n",
            "Iteration 61: Best Weights: [0.46452158 0.26770808 0.12536482 0.12238503 0.0200205 ] Best ROC_AUC: 0.9481211260330578\n",
            "Iteration 62: Best Weights: [0.46452158 0.26770808 0.12536482 0.12238503 0.0200205 ] Best ROC_AUC: 0.9481211260330578\n",
            "Iteration 63: Best Weights: [0.46452158 0.26770808 0.12536482 0.12238503 0.0200205 ] Best ROC_AUC: 0.9481211260330578\n",
            "Iteration 64: Best Weights: [0.46452158 0.26770808 0.12536482 0.12238503 0.0200205 ] Best ROC_AUC: 0.9481211260330578\n",
            "Iteration 65: Best Weights: [0.46452158 0.26770808 0.12536482 0.12238503 0.0200205 ] Best ROC_AUC: 0.9481211260330578\n",
            "Iteration 66: Best Weights: [0.46452158 0.26770808 0.12536482 0.12238503 0.0200205 ] Best ROC_AUC: 0.9481211260330578\n",
            "Iteration 67: Best Weights: [0.46452158 0.26770808 0.12536482 0.12238503 0.0200205 ] Best ROC_AUC: 0.9481211260330578\n",
            "Iteration 68: Best Weights: [0.46452158 0.26770808 0.12536482 0.12238503 0.0200205 ] Best ROC_AUC: 0.9481211260330578\n",
            "Iteration 69: Best Weights: [0.46452158 0.26770808 0.12536482 0.12238503 0.0200205 ] Best ROC_AUC: 0.9481211260330578\n",
            "Iteration 70: Best Weights: [0.46452158 0.26770808 0.12536482 0.12238503 0.0200205 ] Best ROC_AUC: 0.9481211260330578\n",
            "Iteration 71: Best Weights: [0.46452158 0.26770808 0.12536482 0.12238503 0.0200205 ] Best ROC_AUC: 0.9481211260330578\n",
            "Iteration 72: Best Weights: [0.46452158 0.26770808 0.12536482 0.12238503 0.0200205 ] Best ROC_AUC: 0.9481211260330578\n",
            "Iteration 73: Best Weights: [0.46452158 0.26770808 0.12536482 0.12238503 0.0200205 ] Best ROC_AUC: 0.9481211260330578\n",
            "Iteration 74: Best Weights: [0.46452158 0.26770808 0.12536482 0.12238503 0.0200205 ] Best ROC_AUC: 0.9481211260330578\n",
            "Iteration 75: Best Weights: [0.46452158 0.26770808 0.12536482 0.12238503 0.0200205 ] Best ROC_AUC: 0.9481211260330578\n",
            "Iteration 76: Best Weights: [0.46452158 0.26770808 0.12536482 0.12238503 0.0200205 ] Best ROC_AUC: 0.9481211260330578\n",
            "Iteration 77: Best Weights: [0.46452158 0.26770808 0.12536482 0.12238503 0.0200205 ] Best ROC_AUC: 0.9481211260330578\n",
            "Iteration 78: Best Weights: [0.46452158 0.26770808 0.12536482 0.12238503 0.0200205 ] Best ROC_AUC: 0.9481211260330578\n",
            "Iteration 79: Best Weights: [0.46452158 0.26770808 0.12536482 0.12238503 0.0200205 ] Best ROC_AUC: 0.9481211260330578\n",
            "Iteration 80: Best Weights: [0.46452158 0.26770808 0.12536482 0.12238503 0.0200205 ] Best ROC_AUC: 0.9481211260330578\n",
            "Iteration 81: Best Weights: [0.46452158 0.26770808 0.12536482 0.12238503 0.0200205 ] Best ROC_AUC: 0.9481211260330578\n",
            "Iteration 82: Best Weights: [0.46452158 0.26770808 0.12536482 0.12238503 0.0200205 ] Best ROC_AUC: 0.9481211260330578\n",
            "Iteration 83: Best Weights: [0.46452158 0.26770808 0.12536482 0.12238503 0.0200205 ] Best ROC_AUC: 0.9481211260330578\n",
            "Iteration 84: Best Weights: [0.46452158 0.26770808 0.12536482 0.12238503 0.0200205 ] Best ROC_AUC: 0.9481211260330578\n",
            "Iteration 85: Best Weights: [0.46452158 0.26770808 0.12536482 0.12238503 0.0200205 ] Best ROC_AUC: 0.9481211260330578\n",
            "Iteration 86: Best Weights: [0.46452158 0.26770808 0.12536482 0.12238503 0.0200205 ] Best ROC_AUC: 0.9481211260330578\n",
            "Iteration 87: Best Weights: [0.46452158 0.26770808 0.12536482 0.12238503 0.0200205 ] Best ROC_AUC: 0.9481211260330578\n",
            "Iteration 88: Best Weights: [0.46452158 0.26770808 0.12536482 0.12238503 0.0200205 ] Best ROC_AUC: 0.9481211260330578\n",
            "Iteration 89: Best Weights: [0.46452158 0.26770808 0.12536482 0.12238503 0.0200205 ] Best ROC_AUC: 0.9481211260330578\n",
            "Iteration 90: Best Weights: [0.46452158 0.26770808 0.12536482 0.12238503 0.0200205 ] Best ROC_AUC: 0.9481211260330578\n",
            "Iteration 91: Best Weights: [0.46452158 0.26770808 0.12536482 0.12238503 0.0200205 ] Best ROC_AUC: 0.9481211260330578\n",
            "Iteration 92: Best Weights: [0.46452158 0.26770808 0.12536482 0.12238503 0.0200205 ] Best ROC_AUC: 0.9481211260330578\n",
            "Iteration 93: Best Weights: [0.46452158 0.26770808 0.12536482 0.12238503 0.0200205 ] Best ROC_AUC: 0.9481211260330578\n",
            "Iteration 94: Best Weights: [0.46452158 0.26770808 0.12536482 0.12238503 0.0200205 ] Best ROC_AUC: 0.9481211260330578\n",
            "Iteration 95: Best Weights: [0.46452158 0.26770808 0.12536482 0.12238503 0.0200205 ] Best ROC_AUC: 0.9481211260330578\n",
            "Iteration 96: Best Weights: [0.46452158 0.26770808 0.12536482 0.12238503 0.0200205 ] Best ROC_AUC: 0.9481211260330578\n",
            "Iteration 97: Best Weights: [0.46452158 0.26770808 0.12536482 0.12238503 0.0200205 ] Best ROC_AUC: 0.9481211260330578\n",
            "Iteration 98: Best Weights: [0.46452158 0.26770808 0.12536482 0.12238503 0.0200205 ] Best ROC_AUC: 0.9481211260330578\n",
            "Iteration 99: Best Weights: [0.46452158 0.26770808 0.12536482 0.12238503 0.0200205 ] Best ROC_AUC: 0.9481211260330578\n",
            "The best algorithm is: Algorithm 1 with weight: 0.46452158013688294\n"
          ]
        }
      ]
    }
  ],
  "metadata": {
    "kernelspec": {
      "display_name": "Python 3",
      "language": "python",
      "name": "python3"
    },
    "language_info": {
      "codemirror_mode": {
        "name": "ipython",
        "version": 3
      },
      "file_extension": ".py",
      "mimetype": "text/x-python",
      "name": "python",
      "nbconvert_exporter": "python",
      "pygments_lexer": "ipython3",
      "version": "3.8.8"
    },
    "vscode": {
      "interpreter": {
        "hash": "be4c470d85390aab5cd50b7419cb1a10972ddfce2b8427b2abf7ee0cb1502e44"
      }
    },
    "colab": {
      "provenance": [],
      "include_colab_link": true
    }
  },
  "nbformat": 4,
  "nbformat_minor": 0
}