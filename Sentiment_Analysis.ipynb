{
  "nbformat": 4,
  "nbformat_minor": 0,
  "metadata": {
    "colab": {
      "provenance": [],
      "include_colab_link": true
    },
    "kernelspec": {
      "name": "python3",
      "display_name": "Python 3"
    },
    "language_info": {
      "name": "python"
    },
    "accelerator": "GPU",
    "gpuClass": "standard"
  },
  "cells": [
    {
      "cell_type": "markdown",
      "metadata": {
        "id": "view-in-github",
        "colab_type": "text"
      },
      "source": [
        "<a href=\"https://colab.research.google.com/github/Ramesh-Arvind/AI/blob/master/Sentiment_Analysis.ipynb\" target=\"_parent\"><img src=\"https://colab.research.google.com/assets/colab-badge.svg\" alt=\"Open In Colab\"/></a>"
      ]
    },
    {
      "cell_type": "markdown",
      "source": [
        "# Data collection with YouTube"
      ],
      "metadata": {
        "id": "13EivL7iK6Kr"
      }
    },
    {
      "cell_type": "code",
      "source": [
        "import yaml\n",
        "import requests\n",
        "from bs4 import BeautifulSoup\n",
        "import json\n",
        "import csv\n",
        "import re\n",
        "import datetime as dt\n",
        "import matplotlib.pyplot as plt\n",
        "import nltk\n",
        "import numpy as np\n",
        "import spacy\n",
        "import matplotlib.pyplot as plt\n",
        "import string\n",
        "from nltk.corpus import stopwords\n",
        "import nltk\n",
        "from nltk.corpus import wordnet\n",
        "from nltk.stem import WordNetLemmatizer\n",
        "from nltk.tokenize.treebank import TreebankWordDetokenizer\n",
        "from collections import Counter\n",
        "from wordcloud import WordCloud\n",
        "from nltk.corpus import stopwords\n",
        "import nltk\n",
        "from gensim.utils import simple_preprocess\n",
        "from nltk.corpus import stopwords\n",
        "from sklearn.preprocessing import LabelEncoder\n",
        "import gensim\n",
        "from sklearn.model_selection import train_test_split\n",
        "import spacy\n",
        "import pickle\n",
        "import warnings\n",
        "warnings.filterwarnings('ignore')\n",
        "import seaborn as sns\n",
        "from sklearn.metrics import confusion_matrix\n",
        "import matplotlib.pyplot as plt\n",
        "import tensorflow as tf\n",
        "import keras\n",
        "\n",
        "nltk.download('stopwords')\n",
        "nltk.download('wordnet')\n",
        "nltk.download('averaged_perceptron_tagger')\n",
        "nltk.download('punkt')\n",
        "nltk.download('vader_lexicon')\n",
        "from nltk import word_tokenize, sent_tokenize\n",
        "from nltk import pos_tag\n",
        "from nltk.corpus import stopwords\n",
        "from nltk.corpus import wordnet\n",
        "import pandas as pd\n",
        "import google.oauth2.credentials\n",
        "from nltk.stem import WordNetLemmatizer\n",
        "\n",
        "import seaborn as sns\n",
        "import matplotlib.pyplot as plt\n",
        "plt.style.use('ggplot')\n",
        "from sklearn.metrics import roc_curve, auc\n",
        "from sklearn.metrics import classification_report, confusion_matrix\n",
        "import nltk\n",
        "from nltk.corpus import stopwords\n",
        "from nltk.stem import PorterStemmer\n",
        "from sklearn.model_selection import train_test_split\n",
        "from mlxtend.plotting import plot_confusion_matrix\n",
        "import matplotlib.cm as cm\n",
        "from matplotlib import rcParams\n",
        "from collections import Counter\n",
        "from nltk.tokenize import RegexpTokenizer\n",
        "import re\n",
        "import string\n",
        "from tensorflow.keras.layers import LSTM, Activation, Dense, Dropout, Input, Embedding\n",
        "from tensorflow.keras.models import Model\n",
        "from tensorflow.keras.optimizers import RMSprop\n",
        "from tensorflow.keras.preprocessing.text import Tokenizer\n",
        "from tensorflow.keras.preprocessing import sequence\n",
        "%matplotlib inline\n",
        "import warnings\n",
        "warnings.filterwarnings(\"ignore\")\n",
        "\n",
        "from tensorflow.keras.preprocessing.text import Tokenizer\n",
        "from tensorflow.keras.preprocessing.sequence import pad_sequences\n",
        "from keras import models\n",
        "from keras import layers\n",
        "tokenizer = Tokenizer(oov_token=\"<OOV>\")\n",
        "from nltk import sent_tokenize, word_tokenize, pos_tag\n",
        "from google.colab import files\n",
        "from textblob import TextBlob\n",
        "from nltk.sentiment.vader import SentimentIntensityAnalyzer\n",
        "from nltk.sentiment.util import *\n",
        "from nltk.tokenize import WordPunctTokenizer\n",
        "from nltk import word_tokenize, sent_tokenize\n",
        "from nltk.corpus import stopwords\n",
        "from nltk.stem import LancasterStemmer, WordNetLemmatizer, PorterStemmer\n",
        "from wordcloud import WordCloud, STOPWORDS\n",
        "\n",
        "from googleapiclient.discovery import build\n",
        "from googleapiclient.errors import HttpError\n",
        "from google_auth_oauthlib.flow import InstalledAppFlow\n",
        "from nltk.tokenize import word_tokenize\n",
        "from nltk.tokenize import TweetTokenizer\n",
        "\n",
        "from tensorflow.keras.utils import to_categorical\n",
        "from keras.models import Sequential\n",
        "from keras import layers\n",
        "from tensorflow.keras.optimizers import Adam, SGD, RMSprop\n",
        "from keras.preprocessing.text import Tokenizer\n",
        "from keras import regularizers\n",
        "from keras import backend as K\n",
        "from keras.callbacks import ModelCheckpoint\n",
        "max_words = 5000\n",
        "max_len = 200\n",
        "\n",
        "\n",
        "CLIENT_SECRETS_FILE = \"Your secret file\"\n",
        "SCOPES = ['https://www.googleapis.com/auth/youtube.force-ssl']\n",
        "API_SERVICE_NAME = 'youtube'\n",
        "API_VERSION = 'v3'\n",
        "\n",
        "#Check you are authorized or not\n",
        "def get_authenticated_service():\n",
        "    credentials = None\n",
        "    if os.path.exists('token.pickle'):\n",
        "        with open('token.pickle', 'rb') as token:\n",
        "            credentials = pickle.load(token)\n",
        "    #  Check if the credentials are invalid or do not exist\n",
        "    if not credentials or not credentials.valid:\n",
        "        # Check if the credentials have expired\n",
        "        if credentials and credentials.expired and credentials.refresh_token:\n",
        "            credentials.refresh(Request())\n",
        "        else:\n",
        "            flow = InstalledAppFlow.from_client_secrets_file(\n",
        "                CLIENT_SECRETS_FILE, SCOPES)\n",
        "            credentials = flow.run_console()\n",
        "\n",
        "        # Save the credentials for the next run\n",
        "        with open('token.pickle', 'wb') as token:\n",
        "            pickle.dump(credentials, token)\n",
        "\n",
        "    return build(API_SERVICE_NAME, API_VERSION, credentials = credentials)\n",
        "\n",
        "def get_params():\n",
        "    params={'key': \"Your key\", 'videoId': video_id, 'part': 'snippet,id,replies',\n",
        "                 'maxResults': 1000 , 'textFormat'  : 'plainText'}\n",
        "    return params\n",
        "\n",
        "#Getting the comments from youtube through the id\n",
        "def get_all_comments_replies(video_id, params, max_count = 1000):\n",
        "    content_thread_url = r'https://www.googleapis.com/youtube/v3/commentThreads'\n",
        "    response = requests.get('{}/{}'.format(content_thread_url, ''),params )\n",
        "    parsed_response = json.loads(response.text)\n",
        "    texts = [ resp['snippet']['topLevelComment']['snippet']['textDisplay']\n",
        "             for resp in parsed_response['items']]\n",
        "    all_texts = texts\n",
        "    while 'nextPageToken' in parsed_response :\n",
        "        next_page_token = parsed_response['nextPageToken']\n",
        "        print(f\"requesting for {next_page_token} \")\n",
        "\n",
        "        params['pageToken']  = next_page_token\n",
        "        response = requests.get('{}/{}'.format(content_thread_url, ''),params )\n",
        "        parsed_response = json.loads(response.text)\n",
        "        texts = [ resp['snippet']['topLevelComment']['snippet']['textDisplay']\n",
        "             for resp in parsed_response['items']]\n",
        "        all_texts.extend(texts)\n",
        "        print(f\"current response count {len(texts)} total count {len(all_texts)}\")\n",
        "\n",
        "        if(len(all_texts))>max_count:\n",
        "               break\n",
        "\n",
        "    return all_texts[:max_count]\n",
        "\n",
        "#Testing with https://www.youtube.com/watch?v=rt-2cxAiPJk\n",
        "video_id = r'Pj0wz7zu3Ms'\n",
        "params = get_params()\n",
        "comments = get_all_comments_replies(video_id,params, 1000)\n",
        "\n",
        "#Check whether comments are saving\n",
        "assert 1000==len(comments)\n",
        "comments[0:10]\n",
        "\n",
        "\n",
        "# Converting into csv\n",
        "with open('/content/comments.csv', 'w', ) as myfile:\n",
        "    wr = csv.writer(myfile, quoting=csv.QUOTE_ALL)\n",
        "    for word in comments:\n",
        "        wr.writerow([word])\n",
        "\n",
        "#converting csv into text\n",
        "with open('/content/comments.txt', \"w\") as my_output_file:\n",
        "    with open('/content/comments.csv', \"r\") as my_input_file:\n",
        "        [ my_output_file.write(\" \".join(row)+'\\n') for row in csv.reader(my_input_file)]\n",
        "    my_output_file.close()\n",
        "\n",
        "text = \"/content/comments.txt\""
      ],
      "metadata": {
        "colab": {
          "base_uri": "https://localhost:8080/"
        },
        "id": "WSvw84W0i20P",
        "outputId": "3f7a27d1-29ae-4d7e-e11f-0712d0898760"
      },
      "execution_count": null,
      "outputs": [
        {
          "output_type": "stream",
          "name": "stderr",
          "text": [
            "[nltk_data] Downloading package stopwords to /root/nltk_data...\n",
            "[nltk_data]   Package stopwords is already up-to-date!\n",
            "[nltk_data] Downloading package wordnet to /root/nltk_data...\n",
            "[nltk_data]   Package wordnet is already up-to-date!\n",
            "[nltk_data] Downloading package averaged_perceptron_tagger to\n",
            "[nltk_data]     /root/nltk_data...\n",
            "[nltk_data]   Package averaged_perceptron_tagger is already up-to-\n",
            "[nltk_data]       date!\n",
            "[nltk_data] Downloading package punkt to /root/nltk_data...\n",
            "[nltk_data]   Package punkt is already up-to-date!\n",
            "[nltk_data] Downloading package vader_lexicon to /root/nltk_data...\n",
            "[nltk_data]   Package vader_lexicon is already up-to-date!\n"
          ]
        },
        {
          "output_type": "stream",
          "name": "stdout",
          "text": [
            "requesting for QURTSl9pM1p5VmVqVkJuNnJfZkVQdXRObVVPZDl6Z1l5ejlxNlJIejdzWW5na1VnN01rSnRGZklzN1h4ajdzbEJDWlNVVHJyMmJNODhQOA== \n",
            "current response count 100 total count 200\n",
            "requesting for QURTSl9pMjF5UVRycmRxUUNJQXJBLUJxSF9nWUl4ckFuWVJKN0xtU2J1SUNGUUJTNG1rck84dnFlYV8ySzM3aU5ITWJhLW9xbm11dGJGbw== \n",
            "current response count 100 total count 300\n",
            "requesting for QURTSl9pMGZyaXF3aE9sRl9IOE5JX2tOS3ZxNEJVTUdOOVpmY2JDbFJCQWdZeWlLcW81NF9aS0ZzRWdwU0FRRkRseDBkYmE3Z2R3akNGQQ== \n",
            "current response count 100 total count 400\n",
            "requesting for QURTSl9pM1g2X0NxUnYyYjYwaGViRjhnRlZCazFCOGozZFRIVHBXbmJ3eVl6YUhvN2NvTURmZFpBdEFaWkhmZFM5a2pqZE5fMmRRdkhFaw== \n",
            "current response count 100 total count 500\n",
            "requesting for QURTSl9pMk5GVThscnlldDBCYWdRRFhaXzhRcEV6WlJQVGhiODc3elNFREVfYVFSRnk3WTlFM1NVYnJYWlh6LW95UHQxR1pkT0VldVZ2cw== \n",
            "current response count 100 total count 600\n",
            "requesting for QURTSl9pM3pVUXUwUmRpTHVQbzQtX2wwSzlTenlsMUQ0alQ5UnVFa2drUF9UUjZ6MEJBZFAydU52SUZzYmVmc3V4MHRfQWFMNUloSEx4NA== \n",
            "current response count 100 total count 700\n",
            "requesting for QURTSl9pMFFlNzZPN2ZlWVF2R09ZMGhCUENFZGtjeHJfVnQ5Wng0bTRVeElEUEVhLWJDOXlyTHdnRDFiS1NnRnpkY3RnZTcyVjBxeENFVQ== \n",
            "current response count 100 total count 800\n",
            "requesting for QURTSl9pMWV3WEJrcFFMY09oUmFYSmdvRm5DN25YU2dqVE5CS25tU2NaQlE5QTFDVWpOX3RfSm9LZHV6bjRCV3VBT1dlNDdlZjNOU3ZZWQ== \n",
            "current response count 100 total count 900\n",
            "requesting for QURTSl9pMllXZFVFWmxFWkFIbFVzMGE4SHRMbnZCQXNiTk5rd2o1Q0pyN3ZjeDBQcmV6MVp4V21GaGNNQU9GbkVxeXpUSDNheEpwb3B0SQ== \n",
            "current response count 100 total count 1000\n",
            "requesting for QURTSl9pMXZjMHhuMkN0ak5MNFh2d0FPNGhEaDhzcHRSTkpFbzhsVU9RYmItcXlOQVByYXlyUUE1c05WU0dtejRYX0FzdU8td2EwT3ZrZw== \n",
            "current response count 100 total count 1100\n"
          ]
        }
      ]
    },
    {
      "cell_type": "markdown",
      "source": [
        "**Data Representation**"
      ],
      "metadata": {
        "id": "5sSGnBgjZDg5"
      }
    },
    {
      "cell_type": "code",
      "source": [
        "import pandas as pd\n",
        "df = pd.read_csv('Comments_final.csv')\n",
        "import matplotlib.pyplot as plt\n",
        "from collections import Counter\n",
        "letter_counts = Counter(df['Label'])\n",
        "df = pd.DataFrame.from_dict(letter_counts, orient='index')\n",
        "df.plot(kind='bar')"
      ],
      "metadata": {
        "colab": {
          "base_uri": "https://localhost:8080/",
          "height": 317
        },
        "id": "mbPWtcO_ZIRt",
        "outputId": "c154c68d-dafd-4239-fe4b-c7e0e4418320"
      },
      "execution_count": null,
      "outputs": [
        {
          "output_type": "execute_result",
          "data": {
            "text/plain": [
              "<matplotlib.axes._subplots.AxesSubplot at 0x7f28161d3550>"
            ]
          },
          "metadata": {},
          "execution_count": 5
        },
        {
          "output_type": "display_data",
          "data": {
            "text/plain": [
              "<Figure size 432x288 with 1 Axes>"
            ],
            "image/png": "[encoded data removed]"
          },
          "metadata": {
            "needs_background": "light"
          }
        }
      ]
    },
    {
      "cell_type": "markdown",
      "source": [
        "# TF-IDF"
      ],
      "metadata": {
        "id": "vTnkACuqLCxx"
      }
    },
    {
      "cell_type": "code",
      "source": [
        "# Reading and analyzing the dataset\n",
        "\n",
        "# pandas is used to read the excel file that contains the comments and the labeled sentiment.\n",
        "import pandas\n",
        "# The next imports are used to visualize the data.\n",
        "import matplotlib.pyplot as plt\n",
        "from wordcloud import WordCloud, STOPWORDS\n",
        "\n",
        "content = pandas.read_excel(\"comments.xlsx\")\n",
        "\n",
        "# In order to analyze the dataset regarding the balance between the labels, the amount of comments of each label can be counted.\n",
        "print(content.Label.value_counts())\n",
        "\n",
        "# To further analyze the dataset, for each sentiment the most important words are shown in a respective word cloud.\n",
        "text = list(content[content[\"Label\"] == 'positive'].Comment.values)\n",
        "wordcloud = WordCloud(stopwords=STOPWORDS).generate(str(text))\n",
        "plt.imshow(wordcloud)\n",
        "plt.axis(\"off\")\n",
        "plt.show()\n",
        "\n",
        "text = list(content[content[\"Label\"] == 'negative'].Comment.values)\n",
        "wordcloud = WordCloud(stopwords=STOPWORDS).generate(str(text))\n",
        "plt.imshow(wordcloud)\n",
        "plt.axis(\"off\")\n",
        "plt.show()\n",
        "\n",
        "text = list(content[content[\"Label\"] == 'neutral'].Comment.values)\n",
        "wordcloud = WordCloud(stopwords=STOPWORDS).generate(str(text))\n",
        "plt.imshow(wordcloud)\n",
        "plt.axis(\"off\")\n",
        "plt.show()"
      ],
      "metadata": {
        "id": "4M55Z2hwMEUG",
        "colab": {
          "base_uri": "https://localhost:8080/",
          "height": 632
        },
        "outputId": "f98be66e-984c-4aed-e1f4-0a3a14fd7e6d"
      },
      "execution_count": null,
      "outputs": [
        {
          "output_type": "stream",
          "name": "stdout",
          "text": [
            "positive    350\n",
            "negative    217\n",
            "neutral     144\n",
            "Name: Label, dtype: int64\n"
          ]
        },
        {
          "output_type": "display_data",
          "data": {
            "text/plain": [
              "<Figure size 432x288 with 1 Axes>"
            ],
            "image/png": "[encoded data removed]"
          },
          "metadata": {
            "needs_background": "light"
          }
        },
        {
          "output_type": "display_data",
          "data": {
            "text/plain": [
              "<Figure size 432x288 with 1 Axes>"
            ],
            "image/png": "[encoded data removed]"
          },
          "metadata": {
            "needs_background": "light"
          }
        },
        {
          "output_type": "display_data",
          "data": {
            "text/plain": [
              "<Figure size 432x288 with 1 Axes>"
            ],
            "image/png": "[encoded data removed]"
          },
          "metadata": {
            "needs_background": "light"
          }
        }
      ]
    },
    {
      "cell_type": "code",
      "source": [
        "# Preprocessing the data\n",
        "\n",
        "import string\n",
        "import spacy\n",
        "from spacy.lang.en import English\n",
        "\n",
        "# punctuations contains characters like \",\" and \".\"\n",
        "punctuations = string.punctuation\n",
        "\n",
        "\n",
        "# stop_words contains all the stop words, like \"this\" or \"the\", of the English language.\n",
        "stop_words = spacy.lang.en.stop_words.STOP_WORDS\n",
        "\n",
        "# Load English tokenizer, tagger, parser, NER and word vectors\n",
        "parser = English()\n",
        "\n",
        "# This function takes a comment as an input in order to preprocess it to the output mytokens\n",
        "def spacy_tokenizer(comment):\n",
        "    # Creating our token object, which is used to create documents with linguistic annotations.\n",
        "    mytokens = parser(comment)\n",
        "    # As spaCy is designed for a good performance, many preprocessing steps are combined together. Here, every token is tranformed into lowercase.\n",
        "    # After that, the lemma of the word is taken.\n",
        "    # If a token is a pronoun, its lemma is marked by spaCy with \"-PRON-\" because it does not make much sense to lemma such a token.\n",
        "    # Therefore, the lemma is only taken if the token is not a pronoun.\n",
        "    mytokens = [ word.lemma_.lower().strip() if word.lemma_ != \"-PRON-\" else word.lower_ for word in mytokens ]\n",
        "\n",
        "    # Stop words and punctuations generally do not convey a sentiment which is why they are removed.\n",
        "    mytokens = [ word for word in mytokens if word not in stop_words and word not in punctuations ]\n",
        "\n",
        "    # return preprocessed list of tokens\n",
        "    return mytokens"
      ],
      "metadata": {
        "id": "bAH7EEJ7MHVC"
      },
      "execution_count": null,
      "outputs": []
    },
    {
      "cell_type": "code",
      "source": [
        "# Model creation\n",
        "\n",
        "from sklearn.pipeline import Pipeline\n",
        "from sklearn.feature_extraction.text import CountVectorizer\n",
        "from sklearn.feature_extraction.text import TfidfVectorizer\n",
        "from sklearn.model_selection import train_test_split\n",
        "from sklearn.linear_model import LogisticRegression\n",
        "from sklearn.svm import LinearSVC\n",
        "\n",
        "# As the classificator is not able to work with text, the preprocessed comments need to be converted into numbers.\n",
        "\n",
        "# The bow_vector just counts the words of a comment. For demonstration, it is included but not used here.\n",
        "#bow_vector = CountVectorizer(tokenizer = spacy_tokenizer, ngram_range=(1,1))\n",
        "# The tfidf_vector is more advanced and involves weights of different words. Doing that, rare words can be seen as more informative.\n",
        "tfidf_vector = TfidfVectorizer(tokenizer = spacy_tokenizer)\n",
        "\n",
        "comments = content['Comment']\n",
        "labels = content['Label']\n",
        "\n",
        "# Automatically splitting the dataset into a set for training and a set for testing\n",
        "comments_train, comments_test, labels_train, labels_test = train_test_split(comments, labels, test_size=0.2, random_state=42)\n",
        "\n",
        "# For demonstration, it is included but not used here. This classifier would be an alternative.\n",
        "#classifier = LinearSVC()\n",
        "# The logistic regression classifier performed slightly better which is why it is preferred here.\n",
        "classifier = LogisticRegression()\n",
        "\n",
        "# The pipeline combines both the vector and the classifier.\n",
        "pipe = Pipeline([('vectorizer', tfidf_vector),\n",
        "                 ('classifier', classifier)])\n"
      ],
      "metadata": {
        "id": "2Gt5gBCXMK5W"
      },
      "execution_count": null,
      "outputs": []
    },
    {
      "cell_type": "markdown",
      "source": [
        "# Machine Learning approach"
      ],
      "metadata": {
        "id": "cXOzVp4uRjav"
      }
    },
    {
      "cell_type": "code",
      "source": [
        "import pandas as pd\n",
        "import numpy as np\n",
        "import re\n",
        "import collections\n",
        "import matplotlib.pyplot as plt\n",
        "import nltk\n",
        "\n",
        "nltk.download('stopwords')\n",
        "from pathlib import Path\n",
        "from sklearn import svm\n",
        "\n",
        "\n",
        "# Packages for data preparation\n",
        "from sklearn.model_selection import train_test_split\n",
        "from sklearn.metrics import f1_score\n",
        "from sklearn import metrics\n",
        "from sklearn.linear_model import LogisticRegression\n",
        "from sklearn.feature_extraction.text import TfidfVectorizer\n",
        "from sklearn import svm\n",
        "from sklearn.metrics import accuracy_score\n",
        "from sklearn.metrics import f1_score\n",
        "from sklearn.metrics import roc_auc_score\n",
        "from sklearn.metrics import average_precision_score\n",
        "from sklearn.metrics import recall_score\n",
        "\n",
        "from xgboost import XGBClassifier\n",
        "from sklearn.feature_extraction.text import CountVectorizer\n",
        "from sklearn.linear_model import LogisticRegression\n",
        "from nltk.corpus import stopwords\n",
        "from keras.preprocessing.text import Tokenizer\n",
        "from keras.utils.np_utils import to_categorical\n",
        "from sklearn.preprocessing import LabelEncoder\n",
        "\n",
        "# Packages for modeling\n",
        "from keras import models\n",
        "from keras import layers\n",
        "from keras import regularizers\n",
        "\n",
        "NB_WORDS = 10000  # Parameter indicating the number of words we'll put in the dictionary\n",
        "VAL_SIZE = 1000  # Size of the validation set\n",
        "NB_START_EPOCHS = 10  # Number of epochs we usually start to train with\n",
        "BATCH_SIZE = 512  # Size of the batches used in the mini-batch gradient descent\n",
        "MAX_LEN = 24  # Maximum number of words in a sequence\n",
        "GLOVE_DIM = 100  # Number of dimensions of the GloVe word embeddings\n"
      ],
      "metadata": {
        "id": "C7a2aKOBQwQN",
        "colab": {
          "base_uri": "https://localhost:8080/"
        },
        "outputId": "293c119b-4e0e-4faf-deeb-55d9c2827704"
      },
      "execution_count": null,
      "outputs": [
        {
          "output_type": "stream",
          "name": "stderr",
          "text": [
            "[nltk_data] Downloading package stopwords to /root/nltk_data...\n",
            "[nltk_data]   Package stopwords is already up-to-date!\n"
          ]
        }
      ]
    },
    {
      "cell_type": "code",
      "source": [
        "def deep_model(model, X_train, y_train, X_valid, y_valid):\n",
        "    '''\n",
        "    Function to train a multi-class model. The number of epochs and\n",
        "    batch_size are set by the constants at the top of the\n",
        "    notebook.\n",
        "\n",
        "    Parameters:\n",
        "        model : model with the chosen architecture\n",
        "        X_train : training features\n",
        "        y_train : training target\n",
        "        X_valid : validation features\n",
        "        Y_valid : validation target\n",
        "    Output:\n",
        "        model training history\n",
        "    '''\n",
        "    model.compile(optimizer='rmsprop'\n",
        "                  , loss='categorical_crossentropy'\n",
        "                  , metrics=['accuracy'])\n",
        "\n",
        "    history = model.fit(X_train\n",
        "                       , y_train\n",
        "                       , epochs=NB_START_EPOCHS\n",
        "                       , batch_size=BATCH_SIZE\n",
        "                       , validation_data=(X_valid, y_valid)\n",
        "                       , verbose=0)\n",
        "    return history\n",
        "\n",
        "def eval_metric(history, metric_name):\n",
        "    '''\n",
        "    Function to evaluate a trained model on a chosen metric.\n",
        "    Training and validation metric are plotted in a\n",
        "    line chart for each epoch.\n",
        "\n",
        "    Parameters:\n",
        "        history : model training history\n",
        "        metric_name : loss or accuracy\n",
        "    Output:\n",
        "        line chart with epochs of x-axis and metric on\n",
        "        y-axis\n",
        "    '''\n",
        "    metric = history.history[metric_name]\n",
        "    val_metric = history.history['val_' + metric_name]\n",
        "\n",
        "    e = range(1, NB_START_EPOCHS + 1)\n",
        "\n",
        "    plt.plot(e, metric, 'bo', label='Train ' + metric_name)\n",
        "    plt.plot(e, val_metric, 'b', label='Validation ' + metric_name)\n",
        "    plt.legend()\n",
        "    plt.show()\n",
        "\n",
        "def test_model(model, X_train, y_train, X_test, y_test, epoch_stop):\n",
        "    '''\n",
        "    Function to test the model on new data after training it\n",
        "    on the full training data with the optimal number of epochs.\n",
        "\n",
        "    Parameters:\n",
        "        model : trained model\n",
        "        X_train : training features\n",
        "        y_train : training target\n",
        "        X_test : test features\n",
        "        y_test : test target\n",
        "        epochs : optimal number of epochs\n",
        "    Output:\n",
        "        test accuracy and test loss\n",
        "    '''\n",
        "    model.fit(X_train\n",
        "              , y_train\n",
        "              , epochs=epoch_stop\n",
        "              , batch_size=BATCH_SIZE\n",
        "              , verbose=0)\n",
        "    results = model.evaluate(X_test, y_test)\n",
        "\n",
        "    return results\n",
        "\n",
        "def remove_stopwords(input_text):\n",
        "    '''\n",
        "    Function to remove English stopwords from a Pandas Series.\n",
        "\n",
        "    Parameters:\n",
        "        input_text : text to clean\n",
        "    Output:\n",
        "        cleaned Pandas Series\n",
        "    '''\n",
        "    stopwords_list = stopwords.words('english')\n",
        "    # Some words which might indicate a certain sentiment are kept via a whitelist\n",
        "    whitelist = [\"n't\", \"not\", \"no\"]\n",
        "    words = input_text.split()\n",
        "    clean_words = [word for word in words if (word not in stopwords_list or word in whitelist) and len(word) > 1]\n",
        "    return \" \".join(clean_words)\n",
        "\n",
        "def remove_mentions(input_text):\n",
        "    '''\n",
        "    Function to remove mentions, preceded by @, in a Pandas Series\n",
        "\n",
        "    Parameters:\n",
        "        input_text : text to clean\n",
        "    Output:\n",
        "        cleaned Pandas Series\n",
        "    '''\n",
        "    return re.sub(r'@\\w+', '', input_text)"
      ],
      "metadata": {
        "id": "b9n8UdVZQysD"
      },
      "execution_count": null,
      "outputs": []
    },
    {
      "cell_type": "code",
      "source": [
        "df = pd.read_csv(\"Comments_final.csv\")\n",
        "df = df.reindex(np.random.permutation(df.index))\n",
        "df = df[['Comment', 'Label']]\n",
        "df.Comment = df.Comment.apply(remove_stopwords).apply(remove_mentions)"
      ],
      "metadata": {
        "id": "vPGtrpF7Q0M8"
      },
      "execution_count": null,
      "outputs": []
    },
    {
      "cell_type": "code",
      "source": [
        "# Train Test Split\n",
        "X_train, X_test, y_train, y_test = train_test_split(df.Comment, df.Label, test_size=0.3, random_state=37)\n",
        "print('# Train data samples:', X_train.shape[0])\n",
        "print('# Test data samples:', X_test.shape[0])\n",
        "assert X_train.shape[0] == y_train.shape[0]\n",
        "assert X_test.shape[0] == y_test.shape[0]"
      ],
      "metadata": {
        "id": "C777fXyzQ2Gq",
        "colab": {
          "base_uri": "https://localhost:8080/"
        },
        "outputId": "fa34c60e-6205-4965-8637-26f24301b8e9"
      },
      "execution_count": null,
      "outputs": [
        {
          "output_type": "stream",
          "name": "stdout",
          "text": [
            "# Train data samples: 499\n",
            "# Test data samples: 215\n"
          ]
        }
      ]
    },
    {
      "cell_type": "code",
      "source": [
        "# Converting Word to numbers\n",
        "tk = Tokenizer(num_words=NB_WORDS,\n",
        "               filters='!\"#$%&()*+,-./:;<=>?@[\\\\]^_`{|}~\\t\\n',\n",
        "               lower=True,\n",
        "               split=\" \")\n",
        "tk.fit_on_texts(X_train)\n",
        "\n",
        "X_train_seq = tk.texts_to_sequences(X_train)\n",
        "X_test_seq = tk.texts_to_sequences(X_test)"
      ],
      "metadata": {
        "id": "UcndWE6hQ3v0"
      },
      "execution_count": null,
      "outputs": []
    },
    {
      "cell_type": "code",
      "source": [
        "# Creating word sequence and length\n",
        "seq_lengths = X_train.apply(lambda x: len(x.split(' ')))\n",
        "seq_lengths.describe()"
      ],
      "metadata": {
        "id": "qlJMFOuOQ5Kh",
        "colab": {
          "base_uri": "https://localhost:8080/"
        },
        "outputId": "b49f2e32-5bb0-4038-bd10-f22bdd186ad4"
      },
      "execution_count": null,
      "outputs": [
        {
          "output_type": "execute_result",
          "data": {
            "text/plain": [
              "count    499.000000\n",
              "mean      10.531062\n",
              "std       11.898354\n",
              "min        1.000000\n",
              "25%        4.000000\n",
              "50%        7.000000\n",
              "75%       13.000000\n",
              "max      149.000000\n",
              "Name: Comment, dtype: float64"
            ]
          },
          "metadata": {},
          "execution_count": 18
        }
      ]
    },
    {
      "cell_type": "code",
      "source": [
        "# TRuncating the words with zero as max trunc set to 24\n",
        "X_train_seq_trunc = pad_sequences(X_train_seq, maxlen=MAX_LEN)\n",
        "X_test_seq_trunc = pad_sequences(X_test_seq, maxlen=MAX_LEN)\n",
        "X_train_seq_trunc[10]  # Example of padded sequence"
      ],
      "metadata": {
        "id": "dsbSpivIQ6b3",
        "colab": {
          "base_uri": "https://localhost:8080/"
        },
        "outputId": "b4132ab9-661b-42f3-96c3-c22d9ecb3a5e"
      },
      "execution_count": null,
      "outputs": [
        {
          "output_type": "execute_result",
          "data": {
            "text/plain": [
              "array([  0,   0,   0,   0,   0,   0,   0,   0,   0,   0,   0,   0,   0,\n",
              "         0,   0,   0,   0,   5,   6,   8,   9,  18, 175,   3], dtype=int32)"
            ]
          },
          "metadata": {},
          "execution_count": 19
        }
      ]
    },
    {
      "cell_type": "code",
      "source": [
        "# Converting the target classes to numbers\n",
        "le = LabelEncoder()\n",
        "y_train_le = le.fit_transform(y_train)\n",
        "y_test_le = le.transform(y_test)\n",
        "y_train_oh = to_categorical(y_train_le,3)\n",
        "y_test_oh = to_categorical(y_test_le,3)"
      ],
      "metadata": {
        "id": "u3iKhgNLQ8F4"
      },
      "execution_count": null,
      "outputs": []
    },
    {
      "cell_type": "code",
      "source": [
        "# Splitting off validation data\n",
        "X_train_emb, X_valid_emb, y_train_emb, y_valid_emb = train_test_split(X_train_seq_trunc, y_train_oh, test_size=0.1, random_state=37)\n",
        "\n",
        "assert X_valid_emb.shape[0] == y_valid_emb.shape[0]\n",
        "assert X_train_emb.shape[0] == y_train_emb.shape[0]\n",
        "\n",
        "print('Shape of validation set:',X_valid_emb.shape)"
      ],
      "metadata": {
        "id": "NdYZLw1mQ9YX",
        "colab": {
          "base_uri": "https://localhost:8080/"
        },
        "outputId": "a20f6a79-bb8f-4a2e-d486-a40d6ff157c2"
      },
      "execution_count": null,
      "outputs": [
        {
          "output_type": "stream",
          "name": "stdout",
          "text": [
            "Shape of validation set: (50, 24)\n"
          ]
        }
      ]
    },
    {
      "cell_type": "code",
      "source": [
        "# Training word embeddings\n",
        "emb_model = models.Sequential()\n",
        "emb_model.add(layers.Embedding(NB_WORDS, 8, input_length=MAX_LEN))\n",
        "emb_model.add(layers.Flatten())\n",
        "emb_model.add(layers.Dense(3, activation='softmax'))\n",
        "emb_model.summary()"
      ],
      "metadata": {
        "id": "OOVn0D_oQ-qm",
        "colab": {
          "base_uri": "https://localhost:8080/"
        },
        "outputId": "b3058e5a-81c0-438b-8536-eba5829e29be"
      },
      "execution_count": null,
      "outputs": [
        {
          "output_type": "stream",
          "name": "stdout",
          "text": [
            "Model: \"sequential\"\n",
            "_________________________________________________________________\n",
            " Layer (type)                Output Shape              Param #   \n",
            "=================================================================\n",
            " embedding (Embedding)       (None, 24, 8)             80000     \n",
            "                                                                 \n",
            " flatten (Flatten)           (None, 192)               0         \n",
            "                                                                 \n",
            " dense (Dense)               (None, 3)                 579       \n",
            "                                                                 \n",
            "=================================================================\n",
            "Total params: 80,579\n",
            "Trainable params: 80,579\n",
            "Non-trainable params: 0\n",
            "_________________________________________________________________\n"
          ]
        }
      ]
    },
    {
      "cell_type": "code",
      "source": [
        "emb_history = deep_model(emb_model, X_train_emb, y_train_emb, X_valid_emb, y_valid_emb)\n",
        "emb_history.history['accuracy'][-1]"
      ],
      "metadata": {
        "id": "crSCRXyhQ_8U",
        "colab": {
          "base_uri": "https://localhost:8080/"
        },
        "outputId": "7902b0b6-211c-4237-eb0f-b152a3e73da5"
      },
      "execution_count": null,
      "outputs": [
        {
          "output_type": "execute_result",
          "data": {
            "text/plain": [
              "0.5812917351722717"
            ]
          },
          "metadata": {},
          "execution_count": 23
        }
      ]
    },
    {
      "cell_type": "code",
      "source": [
        "# By comparing the training and validation accuracy and loss, we see that the model starts overfitting from epoch 2.\n",
        "\n",
        "eval_metric(emb_history, 'accuracy')"
      ],
      "metadata": {
        "id": "Vqqi2LfBRBrh",
        "colab": {
          "base_uri": "https://localhost:8080/",
          "height": 265
        },
        "outputId": "69c4cfe1-46a4-4f2f-e3e7-ec4c77c52551"
      },
      "execution_count": null,
      "outputs": [
        {
          "output_type": "display_data",
          "data": {
            "text/plain": [
              "<Figure size 432x288 with 1 Axes>"
            ],
            "image/png": "[encoded data removed]"
          },
          "metadata": {
            "needs_background": "light"
          }
        }
      ]
    },
    {
      "cell_type": "code",
      "source": [
        "eval_metric(emb_history, 'loss')"
      ],
      "metadata": {
        "id": "ZWIkWU6LRDUE",
        "colab": {
          "base_uri": "https://localhost:8080/",
          "height": 265
        },
        "outputId": "395368e2-8878-4b37-ce8f-38adb81f5775"
      },
      "execution_count": null,
      "outputs": [
        {
          "output_type": "display_data",
          "data": {
            "text/plain": [
              "<Figure size 432x288 with 1 Axes>"
            ],
            "image/png": "[encoded data removed]"
          },
          "metadata": {
            "needs_background": "light"
          }
        }
      ]
    },
    {
      "cell_type": "code",
      "source": [
        "emb_results = test_model(emb_model, X_train_seq_trunc, y_train_oh, X_test_seq_trunc, y_test_oh, 6)\n",
        "print('/n')\n",
        "print('Test accuracy of word embeddings model: {0:.2f}%'.format(emb_results[1]*100))"
      ],
      "metadata": {
        "id": "ApqVfRMPRE1y",
        "colab": {
          "base_uri": "https://localhost:8080/"
        },
        "outputId": "87243e46-323f-4893-8ade-a6eeb0197b14"
      },
      "execution_count": null,
      "outputs": [
        {
          "output_type": "stream",
          "name": "stdout",
          "text": [
            "7/7 [==============================] - 0s 3ms/step - loss: 1.0388 - accuracy: 0.5302\n",
            "/n\n",
            "Test accuracy of word embeddings model: 53.02%\n"
          ]
        }
      ]
    },
    {
      "cell_type": "code",
      "source": [
        "# Training word embeddings with more dimensions\n",
        "emb_model2 = models.Sequential()\n",
        "emb_model2.add(layers.Embedding(NB_WORDS, GLOVE_DIM, input_length=MAX_LEN))\n",
        "emb_model2.add(layers.Flatten())\n",
        "emb_model2.add(layers.Dense(3, activation='softmax'))\n",
        "emb_model2.summary()"
      ],
      "metadata": {
        "id": "fI7FGJDGRGen",
        "colab": {
          "base_uri": "https://localhost:8080/"
        },
        "outputId": "6957bd83-dfcf-41a5-dae6-760f48d3eece"
      },
      "execution_count": null,
      "outputs": [
        {
          "output_type": "stream",
          "name": "stdout",
          "text": [
            "Model: \"sequential_1\"\n",
            "_________________________________________________________________\n",
            " Layer (type)                Output Shape              Param #   \n",
            "=================================================================\n",
            " embedding_1 (Embedding)     (None, 24, 100)           1000000   \n",
            "                                                                 \n",
            " flatten_1 (Flatten)         (None, 2400)              0         \n",
            "                                                                 \n",
            " dense_1 (Dense)             (None, 3)                 7203      \n",
            "                                                                 \n",
            "=================================================================\n",
            "Total params: 1,007,203\n",
            "Trainable params: 1,007,203\n",
            "Non-trainable params: 0\n",
            "_________________________________________________________________\n"
          ]
        }
      ]
    },
    {
      "cell_type": "code",
      "source": [
        "emb_history2 = deep_model(emb_model2, X_train_emb, y_train_emb, X_valid_emb, y_valid_emb)\n",
        "emb_history2.history['accuracy'][-1]"
      ],
      "metadata": {
        "id": "Ycu8xI2aRH52",
        "colab": {
          "base_uri": "https://localhost:8080/"
        },
        "outputId": "4d446f3b-faf7-4e4e-fa5c-50969f8cde5a"
      },
      "execution_count": null,
      "outputs": [
        {
          "output_type": "execute_result",
          "data": {
            "text/plain": [
              "0.6503340601921082"
            ]
          },
          "metadata": {},
          "execution_count": 28
        }
      ]
    },
    {
      "cell_type": "code",
      "source": [
        "eval_metric(emb_history2, 'loss')"
      ],
      "metadata": {
        "id": "T_IvmhJsRKqB",
        "colab": {
          "base_uri": "https://localhost:8080/",
          "height": 265
        },
        "outputId": "117443cf-1299-4d6d-e66f-949cb19c1505"
      },
      "execution_count": null,
      "outputs": [
        {
          "output_type": "display_data",
          "data": {
            "text/plain": [
              "<Figure size 432x288 with 1 Axes>"
            ],
            "image/png": "[encoded data removed]"
          },
          "metadata": {
            "needs_background": "light"
          }
        }
      ]
    },
    {
      "cell_type": "code",
      "source": [
        "eval_metric(emb_history2, 'accuracy')"
      ],
      "metadata": {
        "id": "DHrwUYpMRMgh",
        "colab": {
          "base_uri": "https://localhost:8080/",
          "height": 265
        },
        "outputId": "720585e0-9b51-4526-90a8-034e3c10541f"
      },
      "execution_count": null,
      "outputs": [
        {
          "output_type": "display_data",
          "data": {
            "text/plain": [
              "<Figure size 432x288 with 1 Axes>"
            ],
            "image/png": "[encoded data removed]"
          },
          "metadata": {
            "needs_background": "light"
          }
        }
      ]
    },
    {
      "cell_type": "code",
      "source": [
        "emb_results2 = test_model(emb_model2, X_train_seq_trunc, y_train_oh, X_test_seq_trunc, y_test_oh, 3)\n",
        "print('/n')\n",
        "print('Test accuracy of word embedding model 2: {0:.2f}%'.format(emb_results2[1]*100))"
      ],
      "metadata": {
        "id": "CW0CuohYRN5C",
        "colab": {
          "base_uri": "https://localhost:8080/"
        },
        "outputId": "9d5cca59-155f-4fdc-a0c6-2a6b03ec5973"
      },
      "execution_count": null,
      "outputs": [
        {
          "output_type": "stream",
          "name": "stdout",
          "text": [
            "7/7 [==============================] - 0s 3ms/step - loss: 0.9965 - accuracy: 0.5209\n",
            "/n\n",
            "Test accuracy of word embedding model 2: 52.09%\n"
          ]
        }
      ]
    },
    {
      "cell_type": "code",
      "source": [
        "# NEw ML with CDD\n",
        "\n",
        "import numpy as np\n",
        "import matplotlib.pyplot as plt\n",
        "\n",
        "plt.style.use('fivethirtyeight')\n",
        "\n",
        "from scipy import sparse as sp_sparse\n",
        "from sklearn.multiclass import OneVsRestClassifier\n",
        "from sklearn.linear_model import LogisticRegression\n",
        "from sklearn.feature_extraction.text import TfidfVectorizer\n",
        "from keras.datasets import imdb\n",
        "from keras import models\n",
        "from keras import layers\n",
        "from sklearn import model_selection\n",
        "\n",
        "\n",
        "max_features = 10000  # Only include top 10,000 words in the vocabulary\n",
        "maxlen = 500  # Cut off each review after 500 words\n",
        "batch_size = 32\n",
        "\n",
        "# Train Test Split\n",
        "X_train, X_test, y_train, y_test = train_test_split(df.Comment, df.Label, test_size=0.3, random_state=37)\n",
        "print('# Train data samples:', X_train.shape[0])\n",
        "print('# Test data samples:', X_test.shape[0])\n",
        "assert X_train.shape[0] == y_train.shape[0]\n",
        "assert X_test.shape[0] == y_test.shape[0]\n",
        "\n",
        "tk = Tokenizer(num_words=NB_WORDS,\n",
        "               filters='!\"#$%&()*+,-./:;<=>?@[\\\\]^_`{|}~\\t\\n',\n",
        "               lower=True,\n",
        "               split=\" \")\n",
        "tk.fit_on_texts(X_train)\n",
        "\n",
        "X_train_seq = tk.texts_to_sequences(X_train)\n",
        "X_test_seq = tk.texts_to_sequences(X_test)\n",
        "\n",
        "seq_lengths = X_train.apply(lambda x: len(x.split(' ')))\n",
        "seq_lengths.describe()\n",
        "\n",
        "le = LabelEncoder()\n",
        "y_train_le = le.fit_transform(y_train)\n",
        "y_test_le = le.transform(y_test)\n",
        "y_train_oh = to_categorical(y_train_le,0)\n",
        "y_test_oh = to_categorical(y_test_le,0)\n",
        "\n",
        "X_train_seq_trunc = pad_sequences(X_train_seq, 500)\n",
        "X_test_seq_trunc = pad_sequences(X_test_seq, 500)\n",
        "\n",
        "\n",
        "X_train_seq_trunc.shape, X_test_seq_trunc.shape\n",
        "\n"
      ],
      "metadata": {
        "id": "L_2dd3gcRPPA",
        "colab": {
          "base_uri": "https://localhost:8080/"
        },
        "outputId": "c8e98c06-4e4b-49e7-e49d-c9958f75dd24"
      },
      "execution_count": null,
      "outputs": [
        {
          "output_type": "stream",
          "name": "stdout",
          "text": [
            "# Train data samples: 499\n",
            "# Test data samples: 215\n"
          ]
        },
        {
          "output_type": "execute_result",
          "data": {
            "text/plain": [
              "((499, 500), (215, 500))"
            ]
          },
          "metadata": {},
          "execution_count": 33
        }
      ]
    },
    {
      "cell_type": "code",
      "source": [
        "# Building the Model\n",
        "\n",
        "model = models.Sequential()\n",
        "model.add(layers.Embedding(max_features, 32, input_length = maxlen))\n",
        "model.add(layers.Conv1D(32, 5, activation = 'relu'))\n",
        "model.add(layers.MaxPooling1D(3))\n",
        "model.add(layers.Dropout(0.2))\n",
        "model.add(layers.CuDNNGRU(32))  # return_sequences = False\n",
        "model.add(layers.Dense(3, activation = 'sigmoid'))\n",
        "\n",
        "model.summary()"
      ],
      "metadata": {
        "id": "cUAf95exRROX",
        "colab": {
          "base_uri": "https://localhost:8080/"
        },
        "outputId": "bcbf54e8-a8d7-49b8-d194-db507223fdcf"
      },
      "execution_count": null,
      "outputs": [
        {
          "output_type": "stream",
          "name": "stdout",
          "text": [
            "Model: \"sequential_2\"\n",
            "_________________________________________________________________\n",
            " Layer (type)                Output Shape              Param #   \n",
            "=================================================================\n",
            " embedding_2 (Embedding)     (None, 500, 32)           320000    \n",
            "                                                                 \n",
            " conv1d (Conv1D)             (None, 496, 32)           5152      \n",
            "                                                                 \n",
            " max_pooling1d (MaxPooling1D  (None, 165, 32)          0         \n",
            " )                                                               \n",
            "                                                                 \n",
            " dropout (Dropout)           (None, 165, 32)           0         \n",
            "                                                                 \n",
            " cu_dnngru (CuDNNGRU)        (None, 32)                6336      \n",
            "                                                                 \n",
            " dense_2 (Dense)             (None, 3)                 99        \n",
            "                                                                 \n",
            "=================================================================\n",
            "Total params: 331,587\n",
            "Trainable params: 331,587\n",
            "Non-trainable params: 0\n",
            "_________________________________________________________________\n"
          ]
        }
      ]
    },
    {
      "cell_type": "code",
      "source": [
        "# Compiling the Model\n",
        "\n",
        "model.compile(loss = 'binary_crossentropy', optimizer = 'rmsprop', metrics = ['acc'])# Compiling the Model"
      ],
      "metadata": {
        "id": "qUipuvzMRSsb"
      },
      "execution_count": null,
      "outputs": []
    },
    {
      "cell_type": "code",
      "source": [
        "# Training\n",
        "\n",
        "history = model.fit(X_train_seq_trunc, y_train_oh, batch_size = batch_size, epochs = 15, validation_split = 0.2)"
      ],
      "metadata": {
        "id": "8bZJhA8TRT3e",
        "colab": {
          "base_uri": "https://localhost:8080/"
        },
        "outputId": "3ab7b735-d354-466c-cbc8-25a24fa14179"
      },
      "execution_count": null,
      "outputs": [
        {
          "output_type": "stream",
          "name": "stdout",
          "text": [
            "Epoch 1/15\n",
            "13/13 [==============================] - 8s 42ms/step - loss: 0.6635 - acc: 0.3810 - val_loss: 0.6252 - val_acc: 0.4800\n",
            "Epoch 2/15\n",
            "13/13 [==============================] - 0s 13ms/step - loss: 0.6177 - acc: 0.4762 - val_loss: 0.6117 - val_acc: 0.4800\n",
            "Epoch 3/15\n",
            "13/13 [==============================] - 0s 12ms/step - loss: 0.6059 - acc: 0.4762 - val_loss: 0.6048 - val_acc: 0.4800\n",
            "Epoch 4/15\n",
            "13/13 [==============================] - 0s 11ms/step - loss: 0.5955 - acc: 0.4762 - val_loss: 0.6002 - val_acc: 0.4800\n",
            "Epoch 5/15\n",
            "13/13 [==============================] - 0s 13ms/step - loss: 0.5824 - acc: 0.4762 - val_loss: 0.5947 - val_acc: 0.4800\n",
            "Epoch 6/15\n",
            "13/13 [==============================] - 0s 12ms/step - loss: 0.5620 - acc: 0.4787 - val_loss: 0.5871 - val_acc: 0.4800\n",
            "Epoch 7/15\n",
            "13/13 [==============================] - 0s 11ms/step - loss: 0.5394 - acc: 0.5088 - val_loss: 0.5821 - val_acc: 0.4800\n",
            "Epoch 8/15\n",
            "13/13 [==============================] - 0s 12ms/step - loss: 0.5051 - acc: 0.5388 - val_loss: 0.5742 - val_acc: 0.5000\n",
            "Epoch 9/15\n",
            "13/13 [==============================] - 0s 12ms/step - loss: 0.4643 - acc: 0.7393 - val_loss: 0.5657 - val_acc: 0.5700\n",
            "Epoch 10/15\n",
            "13/13 [==============================] - 0s 12ms/step - loss: 0.4138 - acc: 0.7945 - val_loss: 0.5580 - val_acc: 0.5700\n",
            "Epoch 11/15\n",
            "13/13 [==============================] - 0s 12ms/step - loss: 0.3680 - acc: 0.8296 - val_loss: 0.5509 - val_acc: 0.5900\n",
            "Epoch 12/15\n",
            "13/13 [==============================] - 0s 12ms/step - loss: 0.3172 - acc: 0.8546 - val_loss: 0.5549 - val_acc: 0.5400\n",
            "Epoch 13/15\n",
            "13/13 [==============================] - 0s 12ms/step - loss: 0.2815 - acc: 0.8797 - val_loss: 0.5478 - val_acc: 0.5700\n",
            "Epoch 14/15\n",
            "13/13 [==============================] - 0s 13ms/step - loss: 0.2489 - acc: 0.8922 - val_loss: 0.5570 - val_acc: 0.6000\n",
            "Epoch 15/15\n",
            "13/13 [==============================] - 0s 12ms/step - loss: 0.2131 - acc: 0.9223 - val_loss: 0.5685 - val_acc: 0.5700\n"
          ]
        }
      ]
    },
    {
      "cell_type": "code",
      "source": [
        "loss = history.history['loss']\n",
        "val_loss = history.history['val_loss']\n",
        "acc = history.history['acc']\n",
        "val_acc = history.history['val_acc']"
      ],
      "metadata": {
        "id": "lqRTyWTURVzP"
      },
      "execution_count": null,
      "outputs": []
    },
    {
      "cell_type": "code",
      "source": [
        "# Plotting Training and Validation Loss\n",
        "\n",
        "epochs = range(1, 16)\n",
        "\n",
        "plt.plot(epochs, loss, 'go', label = 'Training Loss')\n",
        "plt.plot(epochs, val_loss, 'g', label = 'Validation Loss')\n",
        "plt.xlabel('Epochs')\n",
        "plt.ylabel('Loss')\n",
        "plt.legend()\n",
        "plt.show()"
      ],
      "metadata": {
        "id": "mY-4eUDGRXRg",
        "colab": {
          "base_uri": "https://localhost:8080/",
          "height": 304
        },
        "outputId": "6cfaabdd-4cb8-479b-c97c-0347c41f5014"
      },
      "execution_count": null,
      "outputs": [
        {
          "output_type": "display_data",
          "data": {
            "text/plain": [
              "<Figure size 432x288 with 1 Axes>"
            ],
            "image/png": "[encoded data removed]"
          },
          "metadata": {}
        }
      ]
    },
    {
      "cell_type": "code",
      "source": [
        "# Plotting Training and Validation Accuracy\n",
        "\n",
        "plt.plot(epochs, acc, 'bo', label = 'Training Accuarcy')\n",
        "plt.plot(epochs, val_acc, 'b', label = 'Validation Accuracy')\n",
        "plt.xlabel('Epochs')\n",
        "plt.ylabel('Accuracy')\n",
        "plt.legend()\n",
        "plt.show()"
      ],
      "metadata": {
        "id": "V1uSINJpRYXm",
        "colab": {
          "base_uri": "https://localhost:8080/",
          "height": 304
        },
        "outputId": "b2f32e22-e65b-41b8-a72c-c374e35dc333"
      },
      "execution_count": null,
      "outputs": [
        {
          "output_type": "display_data",
          "data": {
            "text/plain": [
              "<Figure size 432x288 with 1 Axes>"
            ],
            "image/png": "[encoded data removed]"
          },
          "metadata": {}
        }
      ]
    },
    {
      "cell_type": "code",
      "source": [
        "model.evaluate(X_test_seq_trunc, y_test_oh)"
      ],
      "metadata": {
        "id": "04S7zwl4RZs8",
        "colab": {
          "base_uri": "https://localhost:8080/"
        },
        "outputId": "6530902d-0a89-4de3-eb7c-7216d87a3222"
      },
      "execution_count": null,
      "outputs": [
        {
          "output_type": "stream",
          "name": "stdout",
          "text": [
            "7/7 [==============================] - 0s 19ms/step - loss: 0.5851 - acc: 0.5953\n"
          ]
        },
        {
          "output_type": "execute_result",
          "data": {
            "text/plain": [
              "[0.5850710868835449, 0.5953488349914551]"
            ]
          },
          "metadata": {},
          "execution_count": 40
        }
      ]
    },
    {
      "cell_type": "code",
      "source": [
        "X, X_test, y, y_test = train_test_split(df.Comment, df.Label, test_size=0.2, train_size=0.8)\n",
        "X_train, X_val, y_train, y_val = train_test_split(df.Comment, df.Label,test_size = 0.25,train_size =0.75)\n",
        "X_train[:1]"
      ],
      "metadata": {
        "id": "vvyj1Ux3RbCQ",
        "colab": {
          "base_uri": "https://localhost:8080/"
        },
        "outputId": "2fba5381-9c52-4594-b551-1e9a4ccdc82b"
      },
      "execution_count": null,
      "outputs": [
        {
          "output_type": "execute_result",
          "data": {
            "text/plain": [
              "302    I'm tired getting ad dumb ass movie every minu...\n",
              "Name: Comment, dtype: object"
            ]
          },
          "metadata": {},
          "execution_count": 41
        }
      ]
    },
    {
      "cell_type": "code",
      "source": [
        "model.evaluate(X_test_seq_trunc, y_test_oh)"
      ],
      "metadata": {
        "id": "-GoiQ26aRcXN",
        "colab": {
          "base_uri": "https://localhost:8080/"
        },
        "outputId": "8fbb537f-6c2e-4522-c4da-3c716ace14d7"
      },
      "execution_count": null,
      "outputs": [
        {
          "output_type": "stream",
          "name": "stdout",
          "text": [
            "7/7 [==============================] - 0s 6ms/step - loss: 0.5851 - acc: 0.5953\n"
          ]
        },
        {
          "output_type": "execute_result",
          "data": {
            "text/plain": [
              "[0.5850710868835449, 0.5953488349914551]"
            ]
          },
          "metadata": {},
          "execution_count": 42
        }
      ]
    },
    {
      "cell_type": "code",
      "source": [
        "# Dictionary of all words from train corpus with their counts.\n",
        "words_counts = {}\n",
        "for comments in X_train:\n",
        "    for word in comments.split():\n",
        "        if word not in words_counts:\n",
        "            words_counts[word] = 1\n",
        "        words_counts[word] += 1\n",
        "\n",
        "DICT_SIZE = 10000\n",
        "POPULAR_WORDS = sorted(words_counts, key=words_counts.get, reverse=True)[:DICT_SIZE]\n",
        "WORDS_TO_INDEX = {key: rank for rank, key in enumerate(POPULAR_WORDS, 0)}\n",
        "INDEX_TO_WORDS = {index:word for word, index in WORDS_TO_INDEX.items()}\n",
        "ALL_WORDS = WORDS_TO_INDEX.keys()"
      ],
      "metadata": {
        "id": "lfgcVsAQ1Aak"
      },
      "execution_count": null,
      "outputs": []
    },
    {
      "cell_type": "code",
      "source": [
        "def my_bag_of_words(text, words_to_index, dict_size):\n",
        "    \"\"\"\n",
        "        text: a string\n",
        "        dict_size: size of the dictionary\n",
        "\n",
        "        return a vector which is a bag-of-words representation of 'text'\n",
        "    \"\"\"\n",
        "    result_vector = np.zeros(dict_size)\n",
        "    for word in text.split(' '):\n",
        "        if word in words_to_index:\n",
        "            result_vector[words_to_index[word]] +=1\n",
        "    return result_vector\n",
        "\n",
        "X_train_mybag = sp_sparse.vstack([sp_sparse.csr_matrix(my_bag_of_words(text, WORDS_TO_INDEX, DICT_SIZE)) for text in X_train])\n",
        "X_val_mybag = sp_sparse.vstack([sp_sparse.csr_matrix(my_bag_of_words(text, WORDS_TO_INDEX, DICT_SIZE)) for text in X_val])\n",
        "print('X_train shape ', X_train_mybag.shape, '\\nX_val shape ', X_val_mybag.shape)"
      ],
      "metadata": {
        "id": "dVV3ONHq1L6F",
        "colab": {
          "base_uri": "https://localhost:8080/"
        },
        "outputId": "9a90e836-b7e7-480e-b7bf-ffa1db9f6c5a"
      },
      "execution_count": null,
      "outputs": [
        {
          "output_type": "stream",
          "name": "stdout",
          "text": [
            "X_train shape  (535, 10000) \n",
            "X_val shape  (179, 10000)\n"
          ]
        }
      ]
    },
    {
      "cell_type": "code",
      "source": [
        "def tfidf_features(X_train, X_val, X_test):\n",
        "    \"\"\"\n",
        "        X_train, X_test — samples\n",
        "        return TF-IDF vectorized representation of each sample and vocabulary\n",
        "    \"\"\"\n",
        "    # Create TF-IDF vectorizer with a proper parameters choice\n",
        "    # Fit the vectorizer on the train set\n",
        "    # Transform the train, test set and return the result\n",
        "\n",
        "\n",
        "    tfidf_vectorizer = TfidfVectorizer(ngram_range=(1,2), max_df=0.9, min_df=5, token_pattern='(\\S+)')\n",
        "\n",
        "    X_train_tfidf = tfidf_vectorizer.fit_transform(X_train)\n",
        "    X_val_tfidf = tfidf_vectorizer.transform(X_val)\n",
        "    X_test_tfidf = tfidf_vectorizer.transform(X_test)\n",
        "\n",
        "    return X_train_tfidf, X_val_tfidf, X_test_tfidf, tfidf_vectorizer.vocabulary_\n",
        "\n",
        "X_train_tfidf, X_val_tfidf, X_test_tfidf, tfidf_vocab = tfidf_features(X_train, X_val, X_test)\n",
        "tfidf_reversed_vocab = {i:word for word,i in tfidf_vocab.items()}"
      ],
      "metadata": {
        "id": "skzXmZyX1Ntd"
      },
      "execution_count": null,
      "outputs": []
    },
    {
      "cell_type": "code",
      "source": [
        "def train_classifier(X_train, y_train, C, regularisation):\n",
        "    \"\"\"\n",
        "      X_train, y_train — training data\n",
        "\n",
        "      return: trained classifier\n",
        "    \"\"\"\n",
        "\n",
        "    # Create and fit LogisticRegression wraped into OneVsRestClassifier.\n",
        "\n",
        "    model = OneVsRestClassifier(LogisticRegression(penalty=regularisation, C=C, max_iter=10000)).fit(X_train, y_train)\n",
        "    return model\n",
        "\n",
        "classifier_mybag = train_classifier(X_train_mybag, y_train, C = 4, regularisation = 'l2')\n",
        "classifier_tfidf = train_classifier(X_train_tfidf, y_train, C = 4, regularisation = 'l2')\n",
        "\n",
        "y_val_predicted_labels_mybag = classifier_mybag.predict(X_val_mybag)\n",
        "y_val_predicted_labels_tfidf = classifier_tfidf.predict(X_val_tfidf)\n",
        "y_val_predicted_scores_mybag = classifier_mybag.decision_function(X_val_mybag)\n",
        "y_val_predicted_scores_tfidf = classifier_tfidf.decision_function(X_val_tfidf)"
      ],
      "metadata": {
        "id": "vq3LFaIU1PKU"
      },
      "execution_count": null,
      "outputs": []
    },
    {
      "cell_type": "code",
      "source": [
        "def print_evaluation_scores(y_test, predicted):\n",
        "\n",
        "    print('Accuracy: ', accuracy_score(y_test, predicted, normalize=False))\n",
        "    print('F1-score macro: ', f1_score(y_test, predicted, average='macro'))\n",
        "    print('F1-score micro: ', f1_score(y_test, predicted, average='micro'))\n",
        "    print('F1-score weighted: ', f1_score(y_test, predicted, average='weighted'))\n",
        "\n",
        "\n",
        "print('Bag-of-words\\n')\n",
        "print_evaluation_scores(y_val, y_val_predicted_labels_mybag)\n",
        "print('\\nTfidf\\n')\n",
        "print_evaluation_scores(y_val, y_val_predicted_labels_tfidf)\n",
        "\n",
        "test_predictions = classifier_tfidf.predict(X_test_tfidf)"
      ],
      "metadata": {
        "id": "ufIiWeJL1Qyu",
        "colab": {
          "base_uri": "https://localhost:8080/"
        },
        "outputId": "a1297928-c7cd-4c47-af7e-72eaf6711644"
      },
      "execution_count": null,
      "outputs": [
        {
          "output_type": "stream",
          "name": "stdout",
          "text": [
            "Bag-of-words\n",
            "\n",
            "Accuracy:  100\n",
            "F1-score macro:  0.4418727634895732\n",
            "F1-score micro:  0.5586592178770949\n",
            "F1-score weighted:  0.5312358837089914\n",
            "\n",
            "Tfidf\n",
            "\n",
            "Accuracy:  110\n",
            "F1-score macro:  0.5633174441926493\n",
            "F1-score micro:  0.6145251396648045\n",
            "F1-score weighted:  0.6136479438485712\n"
          ]
        }
      ]
    },
    {
      "cell_type": "markdown",
      "source": [
        "**Lexicon**"
      ],
      "metadata": {
        "id": "FeWVSrcVnh-0"
      }
    },
    {
      "cell_type": "code",
      "source": [
        "\n",
        "import nltk\n",
        "import pandas\n",
        "from nltk.corpus import sentiwordnet as swn\n",
        "nltk.download(\"sentiwordnet\")\n",
        "nltk.download(\"stopwords\")\n",
        "nltk.download('punkt')\n",
        "nltk.download('wordnet')\n",
        "nltk.download('averaged_perceptron_tagger')\n",
        "data = pandas.read_csv('Comments_final.csv')\n",
        "data.head()\n"
      ],
      "metadata": {
        "colab": {
          "base_uri": "https://localhost:8080/",
          "height": 423
        },
        "id": "4sLz9sqonxLY",
        "outputId": "1670721e-55b1-43f5-d11e-76888a85fad0"
      },
      "execution_count": null,
      "outputs": [
        {
          "output_type": "stream",
          "name": "stderr",
          "text": [
            "[nltk_data] Downloading package sentiwordnet to /root/nltk_data...\n",
            "[nltk_data]   Unzipping corpora/sentiwordnet.zip.\n",
            "[nltk_data] Downloading package stopwords to /root/nltk_data...\n",
            "[nltk_data]   Package stopwords is already up-to-date!\n",
            "[nltk_data] Downloading package punkt to /root/nltk_data...\n",
            "[nltk_data]   Package punkt is already up-to-date!\n",
            "[nltk_data] Downloading package wordnet to /root/nltk_data...\n",
            "[nltk_data]   Package wordnet is already up-to-date!\n",
            "[nltk_data] Downloading package averaged_perceptron_tagger to\n",
            "[nltk_data]     /root/nltk_data...\n",
            "[nltk_data]   Package averaged_perceptron_tagger is already up-to-\n",
            "[nltk_data]       date!\n"
          ]
        },
        {
          "output_type": "execute_result",
          "data": {
            "text/plain": [
              "                                             Comment     Label\n",
              "0  did anyone notice the two taylor swift lyrics ...  positive\n",
              "1        I like The Rock and Gal Gadot but hate ryan   neutral\n",
              "2  This movie was executed in a fantabulous fashi...   neutral\n",
              "3  Movie for children shit story ever waste of ti...  negative\n",
              "4                                   I hate the music  negative"
            ],
            "text/html": [
              "\n",
              "  <div id=\"df-ebae864d-dee0-428b-9b1e-7d798fd312fe\">\n",
              "    <div class=\"colab-df-container\">\n",
              "      <div>\n",
              "<style scoped>\n",
              "    .dataframe tbody tr th:only-of-type {\n",
              "        vertical-align: middle;\n",
              "    }\n",
              "\n",
              "    .dataframe tbody tr th {\n",
              "        vertical-align: top;\n",
              "    }\n",
              "\n",
              "    .dataframe thead th {\n",
              "        text-align: right;\n",
              "    }\n",
              "</style>\n",
              "<table border=\"1\" class=\"dataframe\">\n",
              "  <thead>\n",
              "    <tr style=\"text-align: right;\">\n",
              "      <th></th>\n",
              "      <th>Comment</th>\n",
              "      <th>Label</th>\n",
              "    </tr>\n",
              "  </thead>\n",
              "  <tbody>\n",
              "    <tr>\n",
              "      <th>0</th>\n",
              "      <td>did anyone notice the two taylor swift lyrics ...</td>\n",
              "      <td>positive</td>\n",
              "    </tr>\n",
              "    <tr>\n",
              "      <th>1</th>\n",
              "      <td>I like The Rock and Gal Gadot but hate ryan</td>\n",
              "      <td>neutral</td>\n",
              "    </tr>\n",
              "    <tr>\n",
              "      <th>2</th>\n",
              "      <td>This movie was executed in a fantabulous fashi...</td>\n",
              "      <td>neutral</td>\n",
              "    </tr>\n",
              "    <tr>\n",
              "      <th>3</th>\n",
              "      <td>Movie for children shit story ever waste of ti...</td>\n",
              "      <td>negative</td>\n",
              "    </tr>\n",
              "    <tr>\n",
              "      <th>4</th>\n",
              "      <td>I hate the music</td>\n",
              "      <td>negative</td>\n",
              "    </tr>\n",
              "  </tbody>\n",
              "</table>\n",
              "</div>\n",
              "      <button class=\"colab-df-convert\" onclick=\"convertToInteractive('df-ebae864d-dee0-428b-9b1e-7d798fd312fe')\"\n",
              "              title=\"Convert this dataframe to an interactive table.\"\n",
              "              style=\"display:none;\">\n",
              "        \n",
              "  <svg xmlns=\"http://www.w3.org/2000/svg\" height=\"24px\"viewBox=\"0 0 24 24\"\n",
              "       width=\"24px\">\n",
              "    <path d=\"M0 0h24v24H0V0z\" fill=\"none\"/>\n",
              "    <path d=\"M18.56 5.44l.94 2.06.94-2.06 2.06-.94-2.06-.94-.94-2.06-.94 2.06-2.06.94zm-11 1L8.5 8.5l.94-2.06 2.06-.94-2.06-.94L8.5 2.5l-.94 2.06-2.06.94zm10 10l.94 2.06.94-2.06 2.06-.94-2.06-.94-.94-2.06-.94 2.06-2.06.94z\"/><path d=\"M17.41 7.96l-1.37-1.37c-.4-.4-.92-.59-1.43-.59-.52 0-1.04.2-1.43.59L10.3 9.45l-7.72 7.72c-.78.78-.78 2.05 0 2.83L4 21.41c.39.39.9.59 1.41.59.51 0 1.02-.2 1.41-.59l7.78-7.78 2.81-2.81c.8-.78.8-2.07 0-2.86zM5.41 20L4 18.59l7.72-7.72 1.47 1.35L5.41 20z\"/>\n",
              "  </svg>\n",
              "      </button>\n",
              "      \n",
              "  <style>\n",
              "    .colab-df-container {\n",
              "      display:flex;\n",
              "      flex-wrap:wrap;\n",
              "      gap: 12px;\n",
              "    }\n",
              "\n",
              "    .colab-df-convert {\n",
              "      background-color: #E8F0FE;\n",
              "      border: none;\n",
              "      border-radius: 50%;\n",
              "      cursor: pointer;\n",
              "      display: none;\n",
              "      fill: #1967D2;\n",
              "      height: 32px;\n",
              "      padding: 0 0 0 0;\n",
              "      width: 32px;\n",
              "    }\n",
              "\n",
              "    .colab-df-convert:hover {\n",
              "      background-color: #E2EBFA;\n",
              "      box-shadow: 0px 1px 2px rgba(60, 64, 67, 0.3), 0px 1px 3px 1px rgba(60, 64, 67, 0.15);\n",
              "      fill: #174EA6;\n",
              "    }\n",
              "\n",
              "    [theme=dark] .colab-df-convert {\n",
              "      background-color: #3B4455;\n",
              "      fill: #D2E3FC;\n",
              "    }\n",
              "\n",
              "    [theme=dark] .colab-df-convert:hover {\n",
              "      background-color: #434B5C;\n",
              "      box-shadow: 0px 1px 3px 1px rgba(0, 0, 0, 0.15);\n",
              "      filter: drop-shadow(0px 1px 2px rgba(0, 0, 0, 0.3));\n",
              "      fill: #FFFFFF;\n",
              "    }\n",
              "  </style>\n",
              "\n",
              "      <script>\n",
              "        const buttonEl =\n",
              "          document.querySelector('#df-ebae864d-dee0-428b-9b1e-7d798fd312fe button.colab-df-convert');\n",
              "        buttonEl.style.display =\n",
              "          google.colab.kernel.accessAllowed ? 'block' : 'none';\n",
              "\n",
              "        async function convertToInteractive(key) {\n",
              "          const element = document.querySelector('#df-ebae864d-dee0-428b-9b1e-7d798fd312fe');\n",
              "          const dataTable =\n",
              "            await google.colab.kernel.invokeFunction('convertToInteractive',\n",
              "                                                     [key], {});\n",
              "          if (!dataTable) return;\n",
              "\n",
              "          const docLinkHtml = 'Like what you see? Visit the ' +\n",
              "            '<a target=\"_blank\" href=https://colab.research.google.com/notebooks/data_table.ipynb>data table notebook</a>'\n",
              "            + ' to learn more about interactive tables.';\n",
              "          element.innerHTML = '';\n",
              "          dataTable['output_type'] = 'display_data';\n",
              "          await google.colab.output.renderOutput(dataTable, element);\n",
              "          const docLink = document.createElement('div');\n",
              "          docLink.innerHTML = docLinkHtml;\n",
              "          element.appendChild(docLink);\n",
              "        }\n",
              "      </script>\n",
              "    </div>\n",
              "  </div>\n",
              "  "
            ]
          },
          "metadata": {},
          "execution_count": 48
        }
      ]
    },
    {
      "cell_type": "code",
      "source": [
        "#Cleaning the data\n",
        "import re\n",
        "# Define a function to clean the text\n",
        "def cleanData(text):\n",
        "# Removes all special characters and numericals leaving the alphabets\n",
        "    text = re.sub('[^A-Za-z]+', ' ', text)\n",
        "    return text\n",
        "\n",
        "# Cleaning the text in the review column\n",
        "data['Cleaned Reviews'] = data['Comment'].apply(cleanData)\n",
        "data.head()\n",
        "nltk.download('omw-1.4')"
      ],
      "metadata": {
        "colab": {
          "base_uri": "https://localhost:8080/"
        },
        "id": "ca2YiOCIoteI",
        "outputId": "b71a945d-43c6-409c-a6ef-df1f1aecbf92"
      },
      "execution_count": null,
      "outputs": [
        {
          "output_type": "stream",
          "name": "stderr",
          "text": [
            "[nltk_data] Downloading package omw-1.4 to /root/nltk_data...\n"
          ]
        },
        {
          "output_type": "execute_result",
          "data": {
            "text/plain": [
              "True"
            ]
          },
          "metadata": {},
          "execution_count": 49
        }
      ]
    },
    {
      "cell_type": "markdown",
      "source": [
        "Tokenization\n",
        "Before using a tokenizer in NLTK, we need to download an additional resource, punkt. The punkt module is a pre-trained model that helps you tokenize words and sentences\n"
      ],
      "metadata": {
        "id": "XkeGFqS6o5e8"
      }
    },
    {
      "cell_type": "code",
      "source": [
        "nltk.download('punkt')\n",
        "from nltk.tokenize import word_tokenize"
      ],
      "metadata": {
        "colab": {
          "base_uri": "https://localhost:8080/"
        },
        "id": "riOAIh5bpNQa",
        "outputId": "da1d251f-5cfd-4f42-dc55-0c245c6e3666"
      },
      "execution_count": null,
      "outputs": [
        {
          "output_type": "stream",
          "name": "stderr",
          "text": [
            "[nltk_data] Downloading package punkt to /root/nltk_data...\n",
            "[nltk_data]   Package punkt is already up-to-date!\n"
          ]
        }
      ]
    },
    {
      "cell_type": "markdown",
      "source": [
        "Then We need to do POS (Part of Speech) tagging of the tokens and select only significant features like adjectives, adverbs, nouns."
      ],
      "metadata": {
        "id": "RFPEpVPRpGv2"
      }
    },
    {
      "cell_type": "code",
      "source": [
        "\n",
        "from nltk import pos_tag\n",
        "nltk.download('stopwords')\n",
        "from nltk.corpus import stopwords\n",
        "nltk.download('wordnet')\n",
        "from nltk.corpus import wordnet\n",
        "\n",
        "# POS tagging dictionary\n",
        "pos_dict = {'J':wordnet.ADJ, 'V':wordnet.VERB, 'N':wordnet.NOUN, 'R':wordnet.ADV}\n",
        "def pos_tagging(text):\n",
        "    tags = pos_tag(word_tokenize(text))\n",
        "    taggedlist = []\n",
        "    for word, tag in tags:\n",
        "        if word.lower() not in set(stopwords.words('english')):\n",
        "            taggedlist.append(tuple([word, pos_dict.get(tag[0])]))\n",
        "    return taggedlist\n",
        "\n",
        "data['POS tagged'] = data['Cleaned Reviews'].apply(pos_tagging)\n",
        "data.head()"
      ],
      "metadata": {
        "colab": {
          "base_uri": "https://localhost:8080/",
          "height": 278
        },
        "id": "L3xW13hqo8nl",
        "outputId": "8b657e45-53e6-4433-df01-9d2bc26f1220"
      },
      "execution_count": null,
      "outputs": [
        {
          "output_type": "stream",
          "name": "stderr",
          "text": [
            "[nltk_data] Downloading package stopwords to /root/nltk_data...\n",
            "[nltk_data]   Package stopwords is already up-to-date!\n",
            "[nltk_data] Downloading package wordnet to /root/nltk_data...\n",
            "[nltk_data]   Package wordnet is already up-to-date!\n"
          ]
        },
        {
          "output_type": "execute_result",
          "data": {
            "text/plain": [
              "                                             Comment     Label  \\\n",
              "0  did anyone notice the two taylor swift lyrics ...  positive   \n",
              "1        I like The Rock and Gal Gadot but hate ryan   neutral   \n",
              "2  This movie was executed in a fantabulous fashi...   neutral   \n",
              "3  Movie for children shit story ever waste of ti...  negative   \n",
              "4                                   I hate the music  negative   \n",
              "\n",
              "                                     Cleaned Reviews  \\\n",
              "0  did anyone notice the two taylor swift lyrics ...   \n",
              "1        I like The Rock and Gal Gadot but hate ryan   \n",
              "2  This movie was executed in a fantabulous fashi...   \n",
              "3  Movie for children shit story ever waste of time    \n",
              "4                                   I hate the music   \n",
              "\n",
              "                                          POS tagged  \n",
              "0  [(anyone, n), (notice, n), (two, None), (taylo...  \n",
              "1  [(like, v), (Rock, n), (Gal, n), (Gadot, n), (...  \n",
              "2  [(movie, n), (executed, v), (fantabulous, a), ...  \n",
              "3  [(Movie, n), (children, n), (shit, a), (story,...  \n",
              "4                            [(hate, v), (music, n)]  "
            ],
            "text/html": [
              "\n",
              "  <div id=\"df-00b91c6e-e4bd-49ff-a33b-c4b22edf7063\">\n",
              "    <div class=\"colab-df-container\">\n",
              "      <div>\n",
              "<style scoped>\n",
              "    .dataframe tbody tr th:only-of-type {\n",
              "        vertical-align: middle;\n",
              "    }\n",
              "\n",
              "    .dataframe tbody tr th {\n",
              "        vertical-align: top;\n",
              "    }\n",
              "\n",
              "    .dataframe thead th {\n",
              "        text-align: right;\n",
              "    }\n",
              "</style>\n",
              "<table border=\"1\" class=\"dataframe\">\n",
              "  <thead>\n",
              "    <tr style=\"text-align: right;\">\n",
              "      <th></th>\n",
              "      <th>Comment</th>\n",
              "      <th>Label</th>\n",
              "      <th>Cleaned Reviews</th>\n",
              "      <th>POS tagged</th>\n",
              "    </tr>\n",
              "  </thead>\n",
              "  <tbody>\n",
              "    <tr>\n",
              "      <th>0</th>\n",
              "      <td>did anyone notice the two taylor swift lyrics ...</td>\n",
              "      <td>positive</td>\n",
              "      <td>did anyone notice the two taylor swift lyrics ...</td>\n",
              "      <td>[(anyone, n), (notice, n), (two, None), (taylo...</td>\n",
              "    </tr>\n",
              "    <tr>\n",
              "      <th>1</th>\n",
              "      <td>I like The Rock and Gal Gadot but hate ryan</td>\n",
              "      <td>neutral</td>\n",
              "      <td>I like The Rock and Gal Gadot but hate ryan</td>\n",
              "      <td>[(like, v), (Rock, n), (Gal, n), (Gadot, n), (...</td>\n",
              "    </tr>\n",
              "    <tr>\n",
              "      <th>2</th>\n",
              "      <td>This movie was executed in a fantabulous fashi...</td>\n",
              "      <td>neutral</td>\n",
              "      <td>This movie was executed in a fantabulous fashi...</td>\n",
              "      <td>[(movie, n), (executed, v), (fantabulous, a), ...</td>\n",
              "    </tr>\n",
              "    <tr>\n",
              "      <th>3</th>\n",
              "      <td>Movie for children shit story ever waste of ti...</td>\n",
              "      <td>negative</td>\n",
              "      <td>Movie for children shit story ever waste of time</td>\n",
              "      <td>[(Movie, n), (children, n), (shit, a), (story,...</td>\n",
              "    </tr>\n",
              "    <tr>\n",
              "      <th>4</th>\n",
              "      <td>I hate the music</td>\n",
              "      <td>negative</td>\n",
              "      <td>I hate the music</td>\n",
              "      <td>[(hate, v), (music, n)]</td>\n",
              "    </tr>\n",
              "  </tbody>\n",
              "</table>\n",
              "</div>\n",
              "      <button class=\"colab-df-convert\" onclick=\"convertToInteractive('df-00b91c6e-e4bd-49ff-a33b-c4b22edf7063')\"\n",
              "              title=\"Convert this dataframe to an interactive table.\"\n",
              "              style=\"display:none;\">\n",
              "        \n",
              "  <svg xmlns=\"http://www.w3.org/2000/svg\" height=\"24px\"viewBox=\"0 0 24 24\"\n",
              "       width=\"24px\">\n",
              "    <path d=\"M0 0h24v24H0V0z\" fill=\"none\"/>\n",
              "    <path d=\"M18.56 5.44l.94 2.06.94-2.06 2.06-.94-2.06-.94-.94-2.06-.94 2.06-2.06.94zm-11 1L8.5 8.5l.94-2.06 2.06-.94-2.06-.94L8.5 2.5l-.94 2.06-2.06.94zm10 10l.94 2.06.94-2.06 2.06-.94-2.06-.94-.94-2.06-.94 2.06-2.06.94z\"/><path d=\"M17.41 7.96l-1.37-1.37c-.4-.4-.92-.59-1.43-.59-.52 0-1.04.2-1.43.59L10.3 9.45l-7.72 7.72c-.78.78-.78 2.05 0 2.83L4 21.41c.39.39.9.59 1.41.59.51 0 1.02-.2 1.41-.59l7.78-7.78 2.81-2.81c.8-.78.8-2.07 0-2.86zM5.41 20L4 18.59l7.72-7.72 1.47 1.35L5.41 20z\"/>\n",
              "  </svg>\n",
              "      </button>\n",
              "      \n",
              "  <style>\n",
              "    .colab-df-container {\n",
              "      display:flex;\n",
              "      flex-wrap:wrap;\n",
              "      gap: 12px;\n",
              "    }\n",
              "\n",
              "    .colab-df-convert {\n",
              "      background-color: #E8F0FE;\n",
              "      border: none;\n",
              "      border-radius: 50%;\n",
              "      cursor: pointer;\n",
              "      display: none;\n",
              "      fill: #1967D2;\n",
              "      height: 32px;\n",
              "      padding: 0 0 0 0;\n",
              "      width: 32px;\n",
              "    }\n",
              "\n",
              "    .colab-df-convert:hover {\n",
              "      background-color: #E2EBFA;\n",
              "      box-shadow: 0px 1px 2px rgba(60, 64, 67, 0.3), 0px 1px 3px 1px rgba(60, 64, 67, 0.15);\n",
              "      fill: #174EA6;\n",
              "    }\n",
              "\n",
              "    [theme=dark] .colab-df-convert {\n",
              "      background-color: #3B4455;\n",
              "      fill: #D2E3FC;\n",
              "    }\n",
              "\n",
              "    [theme=dark] .colab-df-convert:hover {\n",
              "      background-color: #434B5C;\n",
              "      box-shadow: 0px 1px 3px 1px rgba(0, 0, 0, 0.15);\n",
              "      filter: drop-shadow(0px 1px 2px rgba(0, 0, 0, 0.3));\n",
              "      fill: #FFFFFF;\n",
              "    }\n",
              "  </style>\n",
              "\n",
              "      <script>\n",
              "        const buttonEl =\n",
              "          document.querySelector('#df-00b91c6e-e4bd-49ff-a33b-c4b22edf7063 button.colab-df-convert');\n",
              "        buttonEl.style.display =\n",
              "          google.colab.kernel.accessAllowed ? 'block' : 'none';\n",
              "\n",
              "        async function convertToInteractive(key) {\n",
              "          const element = document.querySelector('#df-00b91c6e-e4bd-49ff-a33b-c4b22edf7063');\n",
              "          const dataTable =\n",
              "            await google.colab.kernel.invokeFunction('convertToInteractive',\n",
              "                                                     [key], {});\n",
              "          if (!dataTable) return;\n",
              "\n",
              "          const docLinkHtml = 'Like what you see? Visit the ' +\n",
              "            '<a target=\"_blank\" href=https://colab.research.google.com/notebooks/data_table.ipynb>data table notebook</a>'\n",
              "            + ' to learn more about interactive tables.';\n",
              "          element.innerHTML = '';\n",
              "          dataTable['output_type'] = 'display_data';\n",
              "          await google.colab.output.renderOutput(dataTable, element);\n",
              "          const docLink = document.createElement('div');\n",
              "          docLink.innerHTML = docLinkHtml;\n",
              "          element.appendChild(docLink);\n",
              "        }\n",
              "      </script>\n",
              "    </div>\n",
              "  </div>\n",
              "  "
            ]
          },
          "metadata": {},
          "execution_count": 51
        }
      ]
    },
    {
      "cell_type": "markdown",
      "source": [
        "Normalization: the lemmatization algorithm analyzes the structure of the word and its context to convert it to a normalized form"
      ],
      "metadata": {
        "id": "yO86KyPWpzSy"
      }
    },
    {
      "cell_type": "code",
      "source": [
        "from nltk.stem import WordNetLemmatizer\n",
        "wordnet_lemmatizer = WordNetLemmatizer()\n",
        "def lemmatize(pos_data):\n",
        "    init_lem = \" \"\n",
        "    for word, pos in pos_data:\n",
        "        if not pos:\n",
        "            lemma = word\n",
        "            init_lem = init_lem + \" \" + lemma\n",
        "        else:\n",
        "            lemma = wordnet_lemmatizer.lemmatize(word, pos=pos)\n",
        "            init_lem = init_lem + \" \" + lemma\n",
        "    return init_lem\n",
        "\n",
        "data['Lemma'] = data['POS tagged'].apply(lemmatize)\n",
        "data.head()"
      ],
      "metadata": {
        "colab": {
          "base_uri": "https://localhost:8080/",
          "height": 285
        },
        "id": "7wFtqRGlpyK6",
        "outputId": "e6ff4e5d-4f51-40ac-92b0-a43cd4213e60"
      },
      "execution_count": null,
      "outputs": [
        {
          "output_type": "execute_result",
          "data": {
            "text/plain": [
              "                                             Comment     Label  \\\n",
              "0  did anyone notice the two taylor swift lyrics ...  positive   \n",
              "1        I like The Rock and Gal Gadot but hate ryan   neutral   \n",
              "2  This movie was executed in a fantabulous fashi...   neutral   \n",
              "3  Movie for children shit story ever waste of ti...  negative   \n",
              "4                                   I hate the music  negative   \n",
              "\n",
              "                                     Cleaned Reviews  \\\n",
              "0  did anyone notice the two taylor swift lyrics ...   \n",
              "1        I like The Rock and Gal Gadot but hate ryan   \n",
              "2  This movie was executed in a fantabulous fashi...   \n",
              "3  Movie for children shit story ever waste of time    \n",
              "4                                   I hate the music   \n",
              "\n",
              "                                          POS tagged  \\\n",
              "0  [(anyone, n), (notice, n), (two, None), (taylo...   \n",
              "1  [(like, v), (Rock, n), (Gal, n), (Gadot, n), (...   \n",
              "2  [(movie, n), (executed, v), (fantabulous, a), ...   \n",
              "3  [(Movie, n), (children, n), (shit, a), (story,...   \n",
              "4                            [(hate, v), (music, n)]   \n",
              "\n",
              "                                               Lemma  \n",
              "0    anyone notice two taylor swift lyric movie a...  \n",
              "1                      like Rock Gal Gadot hate ryan  \n",
              "2    movie execute fantabulous fashion plot twist...  \n",
              "3             Movie child shit story ever waste time  \n",
              "4                                         hate music  "
            ],
            "text/html": [
              "\n",
              "  <div id=\"df-be53028b-afec-4db6-b4c7-898f9f3093c7\">\n",
              "    <div class=\"colab-df-container\">\n",
              "      <div>\n",
              "<style scoped>\n",
              "    .dataframe tbody tr th:only-of-type {\n",
              "        vertical-align: middle;\n",
              "    }\n",
              "\n",
              "    .dataframe tbody tr th {\n",
              "        vertical-align: top;\n",
              "    }\n",
              "\n",
              "    .dataframe thead th {\n",
              "        text-align: right;\n",
              "    }\n",
              "</style>\n",
              "<table border=\"1\" class=\"dataframe\">\n",
              "  <thead>\n",
              "    <tr style=\"text-align: right;\">\n",
              "      <th></th>\n",
              "      <th>Comment</th>\n",
              "      <th>Label</th>\n",
              "      <th>Cleaned Reviews</th>\n",
              "      <th>POS tagged</th>\n",
              "      <th>Lemma</th>\n",
              "    </tr>\n",
              "  </thead>\n",
              "  <tbody>\n",
              "    <tr>\n",
              "      <th>0</th>\n",
              "      <td>did anyone notice the two taylor swift lyrics ...</td>\n",
              "      <td>positive</td>\n",
              "      <td>did anyone notice the two taylor swift lyrics ...</td>\n",
              "      <td>[(anyone, n), (notice, n), (two, None), (taylo...</td>\n",
              "      <td>anyone notice two taylor swift lyric movie a...</td>\n",
              "    </tr>\n",
              "    <tr>\n",
              "      <th>1</th>\n",
              "      <td>I like The Rock and Gal Gadot but hate ryan</td>\n",
              "      <td>neutral</td>\n",
              "      <td>I like The Rock and Gal Gadot but hate ryan</td>\n",
              "      <td>[(like, v), (Rock, n), (Gal, n), (Gadot, n), (...</td>\n",
              "      <td>like Rock Gal Gadot hate ryan</td>\n",
              "    </tr>\n",
              "    <tr>\n",
              "      <th>2</th>\n",
              "      <td>This movie was executed in a fantabulous fashi...</td>\n",
              "      <td>neutral</td>\n",
              "      <td>This movie was executed in a fantabulous fashi...</td>\n",
              "      <td>[(movie, n), (executed, v), (fantabulous, a), ...</td>\n",
              "      <td>movie execute fantabulous fashion plot twist...</td>\n",
              "    </tr>\n",
              "    <tr>\n",
              "      <th>3</th>\n",
              "      <td>Movie for children shit story ever waste of ti...</td>\n",
              "      <td>negative</td>\n",
              "      <td>Movie for children shit story ever waste of time</td>\n",
              "      <td>[(Movie, n), (children, n), (shit, a), (story,...</td>\n",
              "      <td>Movie child shit story ever waste time</td>\n",
              "    </tr>\n",
              "    <tr>\n",
              "      <th>4</th>\n",
              "      <td>I hate the music</td>\n",
              "      <td>negative</td>\n",
              "      <td>I hate the music</td>\n",
              "      <td>[(hate, v), (music, n)]</td>\n",
              "      <td>hate music</td>\n",
              "    </tr>\n",
              "  </tbody>\n",
              "</table>\n",
              "</div>\n",
              "      <button class=\"colab-df-convert\" onclick=\"convertToInteractive('df-be53028b-afec-4db6-b4c7-898f9f3093c7')\"\n",
              "              title=\"Convert this dataframe to an interactive table.\"\n",
              "              style=\"display:none;\">\n",
              "        \n",
              "  <svg xmlns=\"http://www.w3.org/2000/svg\" height=\"24px\"viewBox=\"0 0 24 24\"\n",
              "       width=\"24px\">\n",
              "    <path d=\"M0 0h24v24H0V0z\" fill=\"none\"/>\n",
              "    <path d=\"M18.56 5.44l.94 2.06.94-2.06 2.06-.94-2.06-.94-.94-2.06-.94 2.06-2.06.94zm-11 1L8.5 8.5l.94-2.06 2.06-.94-2.06-.94L8.5 2.5l-.94 2.06-2.06.94zm10 10l.94 2.06.94-2.06 2.06-.94-2.06-.94-.94-2.06-.94 2.06-2.06.94z\"/><path d=\"M17.41 7.96l-1.37-1.37c-.4-.4-.92-.59-1.43-.59-.52 0-1.04.2-1.43.59L10.3 9.45l-7.72 7.72c-.78.78-.78 2.05 0 2.83L4 21.41c.39.39.9.59 1.41.59.51 0 1.02-.2 1.41-.59l7.78-7.78 2.81-2.81c.8-.78.8-2.07 0-2.86zM5.41 20L4 18.59l7.72-7.72 1.47 1.35L5.41 20z\"/>\n",
              "  </svg>\n",
              "      </button>\n",
              "      \n",
              "  <style>\n",
              "    .colab-df-container {\n",
              "      display:flex;\n",
              "      flex-wrap:wrap;\n",
              "      gap: 12px;\n",
              "    }\n",
              "\n",
              "    .colab-df-convert {\n",
              "      background-color: #E8F0FE;\n",
              "      border: none;\n",
              "      border-radius: 50%;\n",
              "      cursor: pointer;\n",
              "      display: none;\n",
              "      fill: #1967D2;\n",
              "      height: 32px;\n",
              "      padding: 0 0 0 0;\n",
              "      width: 32px;\n",
              "    }\n",
              "\n",
              "    .colab-df-convert:hover {\n",
              "      background-color: #E2EBFA;\n",
              "      box-shadow: 0px 1px 2px rgba(60, 64, 67, 0.3), 0px 1px 3px 1px rgba(60, 64, 67, 0.15);\n",
              "      fill: #174EA6;\n",
              "    }\n",
              "\n",
              "    [theme=dark] .colab-df-convert {\n",
              "      background-color: #3B4455;\n",
              "      fill: #D2E3FC;\n",
              "    }\n",
              "\n",
              "    [theme=dark] .colab-df-convert:hover {\n",
              "      background-color: #434B5C;\n",
              "      box-shadow: 0px 1px 3px 1px rgba(0, 0, 0, 0.15);\n",
              "      filter: drop-shadow(0px 1px 2px rgba(0, 0, 0, 0.3));\n",
              "      fill: #FFFFFF;\n",
              "    }\n",
              "  </style>\n",
              "\n",
              "      <script>\n",
              "        const buttonEl =\n",
              "          document.querySelector('#df-be53028b-afec-4db6-b4c7-898f9f3093c7 button.colab-df-convert');\n",
              "        buttonEl.style.display =\n",
              "          google.colab.kernel.accessAllowed ? 'block' : 'none';\n",
              "\n",
              "        async function convertToInteractive(key) {\n",
              "          const element = document.querySelector('#df-be53028b-afec-4db6-b4c7-898f9f3093c7');\n",
              "          const dataTable =\n",
              "            await google.colab.kernel.invokeFunction('convertToInteractive',\n",
              "                                                     [key], {});\n",
              "          if (!dataTable) return;\n",
              "\n",
              "          const docLinkHtml = 'Like what you see? Visit the ' +\n",
              "            '<a target=\"_blank\" href=https://colab.research.google.com/notebooks/data_table.ipynb>data table notebook</a>'\n",
              "            + ' to learn more about interactive tables.';\n",
              "          element.innerHTML = '';\n",
              "          dataTable['output_type'] = 'display_data';\n",
              "          await google.colab.output.renderOutput(dataTable, element);\n",
              "          const docLink = document.createElement('div');\n",
              "          docLink.innerHTML = docLinkHtml;\n",
              "          element.appendChild(docLink);\n",
              "        }\n",
              "      </script>\n",
              "    </div>\n",
              "  </div>\n",
              "  "
            ]
          },
          "metadata": {},
          "execution_count": 52
        }
      ]
    },
    {
      "cell_type": "code",
      "source": [
        "pip install -U textblob"
      ],
      "metadata": {
        "colab": {
          "base_uri": "https://localhost:8080/",
          "height": 395
        },
        "id": "XfXuiEE3p7mF",
        "outputId": "4aae1c84-efef-4ed3-a268-385dfc85fd76"
      },
      "execution_count": null,
      "outputs": [
        {
          "output_type": "stream",
          "name": "stdout",
          "text": [
            "Looking in indexes: https://pypi.org/simple, https://us-python.pkg.dev/colab-wheels/public/simple/\n",
            "Requirement already satisfied: textblob in /usr/local/lib/python3.7/dist-packages (0.15.3)\n",
            "Collecting textblob\n",
            "  Downloading textblob-0.17.1-py2.py3-none-any.whl (636 kB)\n",
            "\u001b[K     |████████████████████████████████| 636 kB 4.9 MB/s \n",
            "\u001b[?25hRequirement already satisfied: nltk>=3.1 in /usr/local/lib/python3.7/dist-packages (from textblob) (3.7)\n",
            "Requirement already satisfied: joblib in /usr/local/lib/python3.7/dist-packages (from nltk>=3.1->textblob) (1.2.0)\n",
            "Requirement already satisfied: click in /usr/local/lib/python3.7/dist-packages (from nltk>=3.1->textblob) (7.1.2)\n",
            "Requirement already satisfied: tqdm in /usr/local/lib/python3.7/dist-packages (from nltk>=3.1->textblob) (4.64.1)\n",
            "Requirement already satisfied: regex>=2021.8.3 in /usr/local/lib/python3.7/dist-packages (from nltk>=3.1->textblob) (2022.6.2)\n",
            "Installing collected packages: textblob\n",
            "  Attempting uninstall: textblob\n",
            "    Found existing installation: textblob 0.15.3\n",
            "    Uninstalling textblob-0.15.3:\n",
            "      Successfully uninstalled textblob-0.15.3\n",
            "Successfully installed textblob-0.17.1\n"
          ]
        },
        {
          "output_type": "display_data",
          "data": {
            "application/vnd.colab-display-data+json": {
              "pip_warning": {
                "packages": [
                  "textblob"
                ]
              }
            }
          },
          "metadata": {}
        }
      ]
    },
    {
      "cell_type": "markdown",
      "source": [
        "Pass the tokens to a sentiment classifier which classifies the reviewes sentiment as positive, negative or neutral , here we use TextBlob classifier"
      ],
      "metadata": {
        "id": "0FD3I3ZpqD7w"
      }
    },
    {
      "cell_type": "code",
      "source": [
        "from textblob import TextBlob\n",
        "\n",
        "# This function returns the polarity of the text\n",
        "def getPolarity(review):\n",
        "    return TextBlob(review).sentiment.polarity\n",
        "\n",
        "# Assign the right label to each score\n",
        "def Relabel(score):\n",
        "    if score < 0:\n",
        "        return 'Negative'\n",
        "    elif score == 0:\n",
        "        return 'Neutral'\n",
        "    else:\n",
        "        return 'Positive'"
      ],
      "metadata": {
        "id": "8B3zJ4oOqF9z"
      },
      "execution_count": null,
      "outputs": []
    },
    {
      "cell_type": "code",
      "source": [
        "final_data = pandas.DataFrame(data[['Comment', 'Lemma']])"
      ],
      "metadata": {
        "id": "VaYbKH3JqIN7"
      },
      "execution_count": null,
      "outputs": []
    },
    {
      "cell_type": "code",
      "source": [
        "final_data['Polarity'] = final_data['Lemma'].apply(getPolarity)\n",
        "final_data['Analysis'] = final_data['Polarity'].apply(Relabel)\n",
        "final_data.head()"
      ],
      "metadata": {
        "colab": {
          "base_uri": "https://localhost:8080/",
          "height": 206
        },
        "id": "ItvhQxJDqKk-",
        "outputId": "bb7ff366-4b09-4c0c-d43f-9091b6711c03"
      },
      "execution_count": null,
      "outputs": [
        {
          "output_type": "execute_result",
          "data": {
            "text/plain": [
              "                                             Comment  \\\n",
              "0  did anyone notice the two taylor swift lyrics ...   \n",
              "1        I like The Rock and Gal Gadot but hate ryan   \n",
              "2  This movie was executed in a fantabulous fashi...   \n",
              "3  Movie for children shit story ever waste of ti...   \n",
              "4                                   I hate the music   \n",
              "\n",
              "                                               Lemma  Polarity  Analysis  \n",
              "0    anyone notice two taylor swift lyric movie a...      0.25  Positive  \n",
              "1                      like Rock Gal Gadot hate ryan     -0.80  Negative  \n",
              "2    movie execute fantabulous fashion plot twist...      0.00   Neutral  \n",
              "3             Movie child shit story ever waste time     -0.20  Negative  \n",
              "4                                         hate music     -0.80  Negative  "
            ],
            "text/html": [
              "\n",
              "  <div id=\"df-9e110bf2-7f31-4286-b4c7-e48e8f4000c4\">\n",
              "    <div class=\"colab-df-container\">\n",
              "      <div>\n",
              "<style scoped>\n",
              "    .dataframe tbody tr th:only-of-type {\n",
              "        vertical-align: middle;\n",
              "    }\n",
              "\n",
              "    .dataframe tbody tr th {\n",
              "        vertical-align: top;\n",
              "    }\n",
              "\n",
              "    .dataframe thead th {\n",
              "        text-align: right;\n",
              "    }\n",
              "</style>\n",
              "<table border=\"1\" class=\"dataframe\">\n",
              "  <thead>\n",
              "    <tr style=\"text-align: right;\">\n",
              "      <th></th>\n",
              "      <th>Comment</th>\n",
              "      <th>Lemma</th>\n",
              "      <th>Polarity</th>\n",
              "      <th>Analysis</th>\n",
              "    </tr>\n",
              "  </thead>\n",
              "  <tbody>\n",
              "    <tr>\n",
              "      <th>0</th>\n",
              "      <td>did anyone notice the two taylor swift lyrics ...</td>\n",
              "      <td>anyone notice two taylor swift lyric movie a...</td>\n",
              "      <td>0.25</td>\n",
              "      <td>Positive</td>\n",
              "    </tr>\n",
              "    <tr>\n",
              "      <th>1</th>\n",
              "      <td>I like The Rock and Gal Gadot but hate ryan</td>\n",
              "      <td>like Rock Gal Gadot hate ryan</td>\n",
              "      <td>-0.80</td>\n",
              "      <td>Negative</td>\n",
              "    </tr>\n",
              "    <tr>\n",
              "      <th>2</th>\n",
              "      <td>This movie was executed in a fantabulous fashi...</td>\n",
              "      <td>movie execute fantabulous fashion plot twist...</td>\n",
              "      <td>0.00</td>\n",
              "      <td>Neutral</td>\n",
              "    </tr>\n",
              "    <tr>\n",
              "      <th>3</th>\n",
              "      <td>Movie for children shit story ever waste of ti...</td>\n",
              "      <td>Movie child shit story ever waste time</td>\n",
              "      <td>-0.20</td>\n",
              "      <td>Negative</td>\n",
              "    </tr>\n",
              "    <tr>\n",
              "      <th>4</th>\n",
              "      <td>I hate the music</td>\n",
              "      <td>hate music</td>\n",
              "      <td>-0.80</td>\n",
              "      <td>Negative</td>\n",
              "    </tr>\n",
              "  </tbody>\n",
              "</table>\n",
              "</div>\n",
              "      <button class=\"colab-df-convert\" onclick=\"convertToInteractive('df-9e110bf2-7f31-4286-b4c7-e48e8f4000c4')\"\n",
              "              title=\"Convert this dataframe to an interactive table.\"\n",
              "              style=\"display:none;\">\n",
              "        \n",
              "  <svg xmlns=\"http://www.w3.org/2000/svg\" height=\"24px\"viewBox=\"0 0 24 24\"\n",
              "       width=\"24px\">\n",
              "    <path d=\"M0 0h24v24H0V0z\" fill=\"none\"/>\n",
              "    <path d=\"M18.56 5.44l.94 2.06.94-2.06 2.06-.94-2.06-.94-.94-2.06-.94 2.06-2.06.94zm-11 1L8.5 8.5l.94-2.06 2.06-.94-2.06-.94L8.5 2.5l-.94 2.06-2.06.94zm10 10l.94 2.06.94-2.06 2.06-.94-2.06-.94-.94-2.06-.94 2.06-2.06.94z\"/><path d=\"M17.41 7.96l-1.37-1.37c-.4-.4-.92-.59-1.43-.59-.52 0-1.04.2-1.43.59L10.3 9.45l-7.72 7.72c-.78.78-.78 2.05 0 2.83L4 21.41c.39.39.9.59 1.41.59.51 0 1.02-.2 1.41-.59l7.78-7.78 2.81-2.81c.8-.78.8-2.07 0-2.86zM5.41 20L4 18.59l7.72-7.72 1.47 1.35L5.41 20z\"/>\n",
              "  </svg>\n",
              "      </button>\n",
              "      \n",
              "  <style>\n",
              "    .colab-df-container {\n",
              "      display:flex;\n",
              "      flex-wrap:wrap;\n",
              "      gap: 12px;\n",
              "    }\n",
              "\n",
              "    .colab-df-convert {\n",
              "      background-color: #E8F0FE;\n",
              "      border: none;\n",
              "      border-radius: 50%;\n",
              "      cursor: pointer;\n",
              "      display: none;\n",
              "      fill: #1967D2;\n",
              "      height: 32px;\n",
              "      padding: 0 0 0 0;\n",
              "      width: 32px;\n",
              "    }\n",
              "\n",
              "    .colab-df-convert:hover {\n",
              "      background-color: #E2EBFA;\n",
              "      box-shadow: 0px 1px 2px rgba(60, 64, 67, 0.3), 0px 1px 3px 1px rgba(60, 64, 67, 0.15);\n",
              "      fill: #174EA6;\n",
              "    }\n",
              "\n",
              "    [theme=dark] .colab-df-convert {\n",
              "      background-color: #3B4455;\n",
              "      fill: #D2E3FC;\n",
              "    }\n",
              "\n",
              "    [theme=dark] .colab-df-convert:hover {\n",
              "      background-color: #434B5C;\n",
              "      box-shadow: 0px 1px 3px 1px rgba(0, 0, 0, 0.15);\n",
              "      filter: drop-shadow(0px 1px 2px rgba(0, 0, 0, 0.3));\n",
              "      fill: #FFFFFF;\n",
              "    }\n",
              "  </style>\n",
              "\n",
              "      <script>\n",
              "        const buttonEl =\n",
              "          document.querySelector('#df-9e110bf2-7f31-4286-b4c7-e48e8f4000c4 button.colab-df-convert');\n",
              "        buttonEl.style.display =\n",
              "          google.colab.kernel.accessAllowed ? 'block' : 'none';\n",
              "\n",
              "        async function convertToInteractive(key) {\n",
              "          const element = document.querySelector('#df-9e110bf2-7f31-4286-b4c7-e48e8f4000c4');\n",
              "          const dataTable =\n",
              "            await google.colab.kernel.invokeFunction('convertToInteractive',\n",
              "                                                     [key], {});\n",
              "          if (!dataTable) return;\n",
              "\n",
              "          const docLinkHtml = 'Like what you see? Visit the ' +\n",
              "            '<a target=\"_blank\" href=https://colab.research.google.com/notebooks/data_table.ipynb>data table notebook</a>'\n",
              "            + ' to learn more about interactive tables.';\n",
              "          element.innerHTML = '';\n",
              "          dataTable['output_type'] = 'display_data';\n",
              "          await google.colab.output.renderOutput(dataTable, element);\n",
              "          const docLink = document.createElement('div');\n",
              "          docLink.innerHTML = docLinkHtml;\n",
              "          element.appendChild(docLink);\n",
              "        }\n",
              "      </script>\n",
              "    </div>\n",
              "  </div>\n",
              "  "
            ]
          },
          "metadata": {},
          "execution_count": 56
        }
      ]
    },
    {
      "cell_type": "code",
      "source": [
        "textblobCounts = final_data.Analysis.value_counts()\n",
        "\n",
        "textblobCounts"
      ],
      "metadata": {
        "colab": {
          "base_uri": "https://localhost:8080/"
        },
        "id": "FqX_FeK7qPuB",
        "outputId": "6e10dd39-47fb-45d0-f67a-7cb7906b0017"
      },
      "execution_count": null,
      "outputs": [
        {
          "output_type": "execute_result",
          "data": {
            "text/plain": [
              "Positive    349\n",
              "Neutral     200\n",
              "Negative    165\n",
              "Name: Analysis, dtype: int64"
            ]
          },
          "metadata": {},
          "execution_count": 57
        }
      ]
    },
    {
      "cell_type": "code",
      "source": [
        "import sklearn\n",
        "from sklearn.metrics import classification_report\n",
        "data[\"Actual\"] = data[\"Label\"].str.lower()\n",
        "data[\"Predicted\"]=final_data[\"Analysis\"].str.lower()\n",
        "\n",
        "#Evaluate the classification\n",
        "print(classification_report(data[\"Actual\"], data[\"Predicted\"]))"
      ],
      "metadata": {
        "id": "B3-dIdCCUSwS",
        "colab": {
          "base_uri": "https://localhost:8080/"
        },
        "outputId": "060f8d02-1f49-4be7-d273-681415e15918"
      },
      "execution_count": null,
      "outputs": [
        {
          "output_type": "stream",
          "name": "stdout",
          "text": [
            "              precision    recall  f1-score   support\n",
            "\n",
            "    negative       0.82      0.63      0.71       217\n",
            "     neutral       0.58      0.79      0.67       147\n",
            "    positive       0.81      0.81      0.81       350\n",
            "\n",
            "    accuracy                           0.75       714\n",
            "   macro avg       0.74      0.74      0.73       714\n",
            "weighted avg       0.77      0.75      0.75       714\n",
            "\n"
          ]
        }
      ]
    },
    {
      "cell_type": "markdown",
      "source": [
        "Here we will try another lexicon method which is Sentiwordnet and compare it's accuracy with TextBlob\n",
        "\n"
      ],
      "metadata": {
        "id": "dDvrzIXxqYlQ"
      }
    },
    {
      "cell_type": "code",
      "source": [
        "nltk.download('sentiwordnet')\n",
        "from nltk.corpus import sentiwordnet as swn\n",
        "def sentiwordnetanalysis(pos_data):\n",
        "    sentiment = 0\n",
        "    tokens_count = 0\n",
        "    for word, pos in pos_data:\n",
        "        if not pos:\n",
        "            continue\n",
        "        lemma = wordnet_lemmatizer.lemmatize(word, pos=pos)\n",
        "        if not lemma:\n",
        "            continue\n",
        "        synsets = wordnet.synsets(lemma, pos=pos)\n",
        "        if not synsets:\n",
        "            continue\n",
        "            # Take the first sense, the most common\n",
        "        synset = synsets[0]\n",
        "        swn_synset = swn.senti_synset(synset.name())\n",
        "        sentiment += swn_synset.pos_score() - swn_synset.neg_score()\n",
        "        tokens_count += 1\n",
        "\n",
        "        if not tokens_count:\n",
        "            return 0\n",
        "        if sentiment>0:\n",
        "            return \"Positive\"\n",
        "        if sentiment==0:\n",
        "            return \"Neutral\"\n",
        "        else:\n",
        "            return \"Negative\"\n",
        "\n",
        "final_data['SWN analysis'] = data['POS tagged'].apply(sentiwordnetanalysis)\n",
        "final_data.head()"
      ],
      "metadata": {
        "colab": {
          "base_uri": "https://localhost:8080/",
          "height": 242
        },
        "id": "DaTxBFRFqrV3",
        "outputId": "3570e591-8cbf-46e6-dcd2-1d10b05450a8"
      },
      "execution_count": null,
      "outputs": [
        {
          "output_type": "stream",
          "name": "stderr",
          "text": [
            "[nltk_data] Downloading package sentiwordnet to /root/nltk_data...\n",
            "[nltk_data]   Package sentiwordnet is already up-to-date!\n"
          ]
        },
        {
          "output_type": "execute_result",
          "data": {
            "text/plain": [
              "                                             Comment  \\\n",
              "0  did anyone notice the two taylor swift lyrics ...   \n",
              "1        I like The Rock and Gal Gadot but hate ryan   \n",
              "2  This movie was executed in a fantabulous fashi...   \n",
              "3  Movie for children shit story ever waste of ti...   \n",
              "4                                   I hate the music   \n",
              "\n",
              "                                               Lemma  Polarity  Analysis  \\\n",
              "0    anyone notice two taylor swift lyric movie a...      0.25  Positive   \n",
              "1                      like Rock Gal Gadot hate ryan     -0.80  Negative   \n",
              "2    movie execute fantabulous fashion plot twist...      0.00   Neutral   \n",
              "3             Movie child shit story ever waste time     -0.20  Negative   \n",
              "4                                         hate music     -0.80  Negative   \n",
              "\n",
              "  SWN analysis  \n",
              "0      Neutral  \n",
              "1     Positive  \n",
              "2      Neutral  \n",
              "3      Neutral  \n",
              "4     Negative  "
            ],
            "text/html": [
              "\n",
              "  <div id=\"df-70d98430-37cc-4ef0-a288-d9d92e3b6e62\">\n",
              "    <div class=\"colab-df-container\">\n",
              "      <div>\n",
              "<style scoped>\n",
              "    .dataframe tbody tr th:only-of-type {\n",
              "        vertical-align: middle;\n",
              "    }\n",
              "\n",
              "    .dataframe tbody tr th {\n",
              "        vertical-align: top;\n",
              "    }\n",
              "\n",
              "    .dataframe thead th {\n",
              "        text-align: right;\n",
              "    }\n",
              "</style>\n",
              "<table border=\"1\" class=\"dataframe\">\n",
              "  <thead>\n",
              "    <tr style=\"text-align: right;\">\n",
              "      <th></th>\n",
              "      <th>Comment</th>\n",
              "      <th>Lemma</th>\n",
              "      <th>Polarity</th>\n",
              "      <th>Analysis</th>\n",
              "      <th>SWN analysis</th>\n",
              "    </tr>\n",
              "  </thead>\n",
              "  <tbody>\n",
              "    <tr>\n",
              "      <th>0</th>\n",
              "      <td>did anyone notice the two taylor swift lyrics ...</td>\n",
              "      <td>anyone notice two taylor swift lyric movie a...</td>\n",
              "      <td>0.25</td>\n",
              "      <td>Positive</td>\n",
              "      <td>Neutral</td>\n",
              "    </tr>\n",
              "    <tr>\n",
              "      <th>1</th>\n",
              "      <td>I like The Rock and Gal Gadot but hate ryan</td>\n",
              "      <td>like Rock Gal Gadot hate ryan</td>\n",
              "      <td>-0.80</td>\n",
              "      <td>Negative</td>\n",
              "      <td>Positive</td>\n",
              "    </tr>\n",
              "    <tr>\n",
              "      <th>2</th>\n",
              "      <td>This movie was executed in a fantabulous fashi...</td>\n",
              "      <td>movie execute fantabulous fashion plot twist...</td>\n",
              "      <td>0.00</td>\n",
              "      <td>Neutral</td>\n",
              "      <td>Neutral</td>\n",
              "    </tr>\n",
              "    <tr>\n",
              "      <th>3</th>\n",
              "      <td>Movie for children shit story ever waste of ti...</td>\n",
              "      <td>Movie child shit story ever waste time</td>\n",
              "      <td>-0.20</td>\n",
              "      <td>Negative</td>\n",
              "      <td>Neutral</td>\n",
              "    </tr>\n",
              "    <tr>\n",
              "      <th>4</th>\n",
              "      <td>I hate the music</td>\n",
              "      <td>hate music</td>\n",
              "      <td>-0.80</td>\n",
              "      <td>Negative</td>\n",
              "      <td>Negative</td>\n",
              "    </tr>\n",
              "  </tbody>\n",
              "</table>\n",
              "</div>\n",
              "      <button class=\"colab-df-convert\" onclick=\"convertToInteractive('df-70d98430-37cc-4ef0-a288-d9d92e3b6e62')\"\n",
              "              title=\"Convert this dataframe to an interactive table.\"\n",
              "              style=\"display:none;\">\n",
              "        \n",
              "  <svg xmlns=\"http://www.w3.org/2000/svg\" height=\"24px\"viewBox=\"0 0 24 24\"\n",
              "       width=\"24px\">\n",
              "    <path d=\"M0 0h24v24H0V0z\" fill=\"none\"/>\n",
              "    <path d=\"M18.56 5.44l.94 2.06.94-2.06 2.06-.94-2.06-.94-.94-2.06-.94 2.06-2.06.94zm-11 1L8.5 8.5l.94-2.06 2.06-.94-2.06-.94L8.5 2.5l-.94 2.06-2.06.94zm10 10l.94 2.06.94-2.06 2.06-.94-2.06-.94-.94-2.06-.94 2.06-2.06.94z\"/><path d=\"M17.41 7.96l-1.37-1.37c-.4-.4-.92-.59-1.43-.59-.52 0-1.04.2-1.43.59L10.3 9.45l-7.72 7.72c-.78.78-.78 2.05 0 2.83L4 21.41c.39.39.9.59 1.41.59.51 0 1.02-.2 1.41-.59l7.78-7.78 2.81-2.81c.8-.78.8-2.07 0-2.86zM5.41 20L4 18.59l7.72-7.72 1.47 1.35L5.41 20z\"/>\n",
              "  </svg>\n",
              "      </button>\n",
              "      \n",
              "  <style>\n",
              "    .colab-df-container {\n",
              "      display:flex;\n",
              "      flex-wrap:wrap;\n",
              "      gap: 12px;\n",
              "    }\n",
              "\n",
              "    .colab-df-convert {\n",
              "      background-color: #E8F0FE;\n",
              "      border: none;\n",
              "      border-radius: 50%;\n",
              "      cursor: pointer;\n",
              "      display: none;\n",
              "      fill: #1967D2;\n",
              "      height: 32px;\n",
              "      padding: 0 0 0 0;\n",
              "      width: 32px;\n",
              "    }\n",
              "\n",
              "    .colab-df-convert:hover {\n",
              "      background-color: #E2EBFA;\n",
              "      box-shadow: 0px 1px 2px rgba(60, 64, 67, 0.3), 0px 1px 3px 1px rgba(60, 64, 67, 0.15);\n",
              "      fill: #174EA6;\n",
              "    }\n",
              "\n",
              "    [theme=dark] .colab-df-convert {\n",
              "      background-color: #3B4455;\n",
              "      fill: #D2E3FC;\n",
              "    }\n",
              "\n",
              "    [theme=dark] .colab-df-convert:hover {\n",
              "      background-color: #434B5C;\n",
              "      box-shadow: 0px 1px 3px 1px rgba(0, 0, 0, 0.15);\n",
              "      filter: drop-shadow(0px 1px 2px rgba(0, 0, 0, 0.3));\n",
              "      fill: #FFFFFF;\n",
              "    }\n",
              "  </style>\n",
              "\n",
              "      <script>\n",
              "        const buttonEl =\n",
              "          document.querySelector('#df-70d98430-37cc-4ef0-a288-d9d92e3b6e62 button.colab-df-convert');\n",
              "        buttonEl.style.display =\n",
              "          google.colab.kernel.accessAllowed ? 'block' : 'none';\n",
              "\n",
              "        async function convertToInteractive(key) {\n",
              "          const element = document.querySelector('#df-70d98430-37cc-4ef0-a288-d9d92e3b6e62');\n",
              "          const dataTable =\n",
              "            await google.colab.kernel.invokeFunction('convertToInteractive',\n",
              "                                                     [key], {});\n",
              "          if (!dataTable) return;\n",
              "\n",
              "          const docLinkHtml = 'Like what you see? Visit the ' +\n",
              "            '<a target=\"_blank\" href=https://colab.research.google.com/notebooks/data_table.ipynb>data table notebook</a>'\n",
              "            + ' to learn more about interactive tables.';\n",
              "          element.innerHTML = '';\n",
              "          dataTable['output_type'] = 'display_data';\n",
              "          await google.colab.output.renderOutput(dataTable, element);\n",
              "          const docLink = document.createElement('div');\n",
              "          docLink.innerHTML = docLinkHtml;\n",
              "          element.appendChild(docLink);\n",
              "        }\n",
              "      </script>\n",
              "    </div>\n",
              "  </div>\n",
              "  "
            ]
          },
          "metadata": {},
          "execution_count": 59
        }
      ]
    },
    {
      "cell_type": "code",
      "source": [
        "swn_counts= final_data[\"SWN analysis\"].value_counts()\n",
        "swn_counts"
      ],
      "metadata": {
        "colab": {
          "base_uri": "https://localhost:8080/"
        },
        "id": "aGkz0OhSqxNY",
        "outputId": "da861daf-7c11-4edb-a2a8-a75aa8ec0f8f"
      },
      "execution_count": null,
      "outputs": [
        {
          "output_type": "execute_result",
          "data": {
            "text/plain": [
              "Neutral     399\n",
              "Positive    189\n",
              "Negative     95\n",
              "Name: SWN analysis, dtype: int64"
            ]
          },
          "metadata": {},
          "execution_count": 60
        }
      ]
    },
    {
      "cell_type": "code",
      "source": [
        "\n",
        "# function to convert to numeric\n",
        "def toint(label):\n",
        "\n",
        "    if label=='negative':\n",
        "        return -1\n",
        "    elif label == 'neutral':\n",
        "        return 0\n",
        "    else:\n",
        "        return 1\n",
        "data[\"Actual\"] = data[\"Label\"].str.lower()\n",
        "data[\"Predicted\"]=final_data['SWN analysis'].str.lower()\n",
        "\n",
        "data[\"act\"] =data[\"Actual\"].apply(toint)\n",
        "\n",
        "data[\"pred\"]=data[\"Predicted\"].apply(toint)\n",
        "#data\n",
        "labels =['Negative','Neutral','Positive']\n",
        "print(classification_report(data[\"act\"], data[\"pred\"],target_names=labels))"
      ],
      "metadata": {
        "colab": {
          "base_uri": "https://localhost:8080/"
        },
        "id": "O9CA66TrUjy_",
        "outputId": "1a7958ac-38b5-4363-8569-4a8c7634f1fc"
      },
      "execution_count": null,
      "outputs": [
        {
          "output_type": "stream",
          "name": "stdout",
          "text": [
            "              precision    recall  f1-score   support\n",
            "\n",
            "    Negative       0.56      0.24      0.34       217\n",
            "     Neutral       0.23      0.62      0.33       147\n",
            "    Positive       0.61      0.38      0.47       350\n",
            "\n",
            "    accuracy                           0.39       714\n",
            "   macro avg       0.47      0.42      0.38       714\n",
            "weighted avg       0.52      0.39      0.40       714\n",
            "\n"
          ]
        }
      ]
    },
    {
      "cell_type": "code",
      "source": [
        "import matplotlib.pyplot as plt\n",
        "%matplotlib inline\n",
        "plt.figure(figsize=(15,7))\n",
        "plt.subplot(1,3,1)\n",
        "plt.title(\"TextBlob results\")\n",
        "plt.pie(textblobCounts.values, labels = textblobCounts.index, explode = (0, 0, 0.25), autopct='%1.1f%%', shadow=False)\n",
        "plt.subplot(1,3,2)\n",
        "plt.title(\"SentiWordNet results\")\n",
        "plt.pie(swn_counts.values, labels = swn_counts.index, explode = (0, 0, 0.25), autopct='%1.1f%%', shadow=False)"
      ],
      "metadata": {
        "colab": {
          "base_uri": "https://localhost:8080/",
          "height": 487
        },
        "id": "YfQsyz3RDf5e",
        "outputId": "d8e7d059-89e3-418b-8afa-3cd96f1f9448"
      },
      "execution_count": null,
      "outputs": [
        {
          "output_type": "execute_result",
          "data": {
            "text/plain": [
              "([<matplotlib.patches.Wedge at 0x7f279cadb850>,\n",
              "  <matplotlib.patches.Wedge at 0x7f279cadaf50>,\n",
              "  <matplotlib.patches.Wedge at 0x7f279cada410>],\n",
              " [Text(-0.2875507573167099, 1.0617507061295446, 'Neutral'),\n",
              "  Text(-0.18879817914158062, -1.0836767264977243, 'Positive'),\n",
              "  Text(1.2231506777053405, -0.5713163918784117, 'Negative')],\n",
              " [Text(-0.15684586762729633, 0.5791367487979334, '58.4%'),\n",
              "  Text(-0.1029808249863167, -0.5910963962714859, '27.7%'),\n",
              "  Text(0.7701319081848439, -0.35971772821974063, '13.9%')])"
            ]
          },
          "metadata": {},
          "execution_count": 62
        },
        {
          "output_type": "display_data",
          "data": {
            "text/plain": [
              "<Figure size 1080x504 with 2 Axes>"
            ],
            "image/png": "[encoded data removed]"
          },
          "metadata": {}
        }
      ]
    }
  ]
}